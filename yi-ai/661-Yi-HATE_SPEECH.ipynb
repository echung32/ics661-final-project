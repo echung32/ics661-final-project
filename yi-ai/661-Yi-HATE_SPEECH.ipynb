{
 "cells": [
  {
   "cell_type": "markdown",
   "id": "41d40012-ab6d-4d04-99b7-a941989e6345",
   "metadata": {
    "deletable": true,
    "editable": true,
    "frozen": false
   },
   "source": [
    "# setup"
   ]
  },
  {
   "cell_type": "code",
   "execution_count": 1,
   "id": "8c07cd71-b5ad-4140-b243-f3ba985418d7",
   "metadata": {
    "deletable": true,
    "editable": true,
    "frozen": false
   },
   "outputs": [
    {
     "name": "stdout",
     "output_type": "stream",
     "text": [
      "Tue Nov 26 01:22:48 2024       \n",
      "+-----------------------------------------------------------------------------------------+\n",
      "| NVIDIA-SMI 555.42.06              Driver Version: 555.42.06      CUDA Version: 12.5     |\n",
      "|-----------------------------------------+------------------------+----------------------+\n",
      "| GPU  Name                 Persistence-M | Bus-Id          Disp.A | Volatile Uncorr. ECC |\n",
      "| Fan  Temp   Perf          Pwr:Usage/Cap |           Memory-Usage | GPU-Util  Compute M. |\n",
      "|                                         |                        |               MIG M. |\n",
      "|=========================================+========================+======================|\n",
      "|   0  Tesla V100-SXM2-32GB           On  |   00000000:B2:00.0 Off |                    0 |\n",
      "| N/A   30C    P0             40W /  300W |       1MiB /  32768MiB |      0%      Default |\n",
      "|                                         |                        |                  N/A |\n",
      "+-----------------------------------------+------------------------+----------------------+\n",
      "                                                                                         \n",
      "+-----------------------------------------------------------------------------------------+\n",
      "| Processes:                                                                              |\n",
      "|  GPU   GI   CI        PID   Type   Process name                              GPU Memory |\n",
      "|        ID   ID                                                               Usage      |\n",
      "|=========================================================================================|\n",
      "|  No running processes found                                                             |\n",
      "+-----------------------------------------------------------------------------------------+\n"
     ]
    }
   ],
   "source": [
    "!nvidia-smi"
   ]
  },
  {
   "cell_type": "code",
   "execution_count": 2,
   "id": "25d13bf0-174e-40ca-9f38-3b8bbf9ab38b",
   "metadata": {
    "deletable": true,
    "editable": true,
    "frozen": false
   },
   "outputs": [
    {
     "name": "stdout",
     "output_type": "stream",
     "text": [
      "Defaulting to user installation because normal site-packages is not writeable\n",
      "Requirement already satisfied: langchain in /home/echung32/.local/lib/python3.11/site-packages (0.3.7)\n",
      "Requirement already satisfied: langchain-huggingface in /home/echung32/.local/lib/python3.11/site-packages (0.1.2)\n",
      "Requirement already satisfied: bitsandbytes in /home/echung32/.local/lib/python3.11/site-packages (0.44.1)\n",
      "Requirement already satisfied: datasets in /home/echung32/.local/lib/python3.11/site-packages (3.1.0)\n",
      "Requirement already satisfied: matplotlib in /opt/apps/software/lang/Anaconda3/2024.02-1/lib/python3.11/site-packages (3.8.4)\n",
      "Requirement already satisfied: scikit-learn in /opt/apps/software/lang/Anaconda3/2024.02-1/lib/python3.11/site-packages (1.4.2)\n",
      "Requirement already satisfied: accelerate in /home/echung32/.local/lib/python3.11/site-packages (1.1.1)\n",
      "Requirement already satisfied: PyYAML>=5.3 in /opt/apps/software/lang/Anaconda3/2024.02-1/lib/python3.11/site-packages (from langchain) (6.0.1)\n",
      "Requirement already satisfied: SQLAlchemy<3,>=1.4 in /opt/apps/software/lang/Anaconda3/2024.02-1/lib/python3.11/site-packages (from langchain) (2.0.25)\n",
      "Requirement already satisfied: aiohttp<4.0.0,>=3.8.3 in /opt/apps/software/lang/Anaconda3/2024.02-1/lib/python3.11/site-packages (from langchain) (3.9.3)\n",
      "Requirement already satisfied: langchain-core<0.4.0,>=0.3.15 in /home/echung32/.local/lib/python3.11/site-packages (from langchain) (0.3.18)\n",
      "Requirement already satisfied: langchain-text-splitters<0.4.0,>=0.3.0 in /home/echung32/.local/lib/python3.11/site-packages (from langchain) (0.3.2)\n",
      "Requirement already satisfied: langsmith<0.2.0,>=0.1.17 in /home/echung32/.local/lib/python3.11/site-packages (from langchain) (0.1.143)\n",
      "Requirement already satisfied: numpy<2,>=1 in /opt/apps/software/lang/Anaconda3/2024.02-1/lib/python3.11/site-packages (from langchain) (1.26.4)\n",
      "Requirement already satisfied: pydantic<3.0.0,>=2.7.4 in /home/echung32/.local/lib/python3.11/site-packages (from langchain) (2.9.2)\n",
      "Requirement already satisfied: requests<3,>=2 in /home/echung32/.local/lib/python3.11/site-packages (from langchain) (2.32.3)\n",
      "Requirement already satisfied: tenacity!=8.4.0,<10,>=8.1.0 in /opt/apps/software/lang/Anaconda3/2024.02-1/lib/python3.11/site-packages (from langchain) (8.2.2)\n",
      "Requirement already satisfied: huggingface-hub>=0.23.0 in /home/echung32/.local/lib/python3.11/site-packages (from langchain-huggingface) (0.26.1)\n",
      "Requirement already satisfied: sentence-transformers>=2.6.0 in /home/echung32/.local/lib/python3.11/site-packages (from langchain-huggingface) (3.3.0)\n",
      "Requirement already satisfied: tokenizers>=0.19.1 in /home/echung32/.local/lib/python3.11/site-packages (from langchain-huggingface) (0.20.1)\n",
      "Requirement already satisfied: transformers>=4.39.0 in /home/echung32/.local/lib/python3.11/site-packages (from langchain-huggingface) (4.45.2)\n",
      "Requirement already satisfied: torch in /home/echung32/.local/lib/python3.11/site-packages (from bitsandbytes) (2.5.1)\n",
      "Requirement already satisfied: filelock in /opt/apps/software/lang/Anaconda3/2024.02-1/lib/python3.11/site-packages (from datasets) (3.13.1)\n",
      "Requirement already satisfied: pyarrow>=15.0.0 in /home/echung32/.local/lib/python3.11/site-packages (from datasets) (18.0.0)\n",
      "Requirement already satisfied: dill<0.3.9,>=0.3.0 in /home/echung32/.local/lib/python3.11/site-packages (from datasets) (0.3.8)\n",
      "Requirement already satisfied: pandas in /opt/apps/software/lang/Anaconda3/2024.02-1/lib/python3.11/site-packages (from datasets) (2.2.1)\n",
      "Requirement already satisfied: tqdm>=4.66.3 in /home/echung32/.local/lib/python3.11/site-packages (from datasets) (4.67.0)\n",
      "Requirement already satisfied: xxhash in /home/echung32/.local/lib/python3.11/site-packages (from datasets) (3.5.0)\n",
      "Requirement already satisfied: multiprocess<0.70.17 in /home/echung32/.local/lib/python3.11/site-packages (from datasets) (0.70.16)\n",
      "Requirement already satisfied: fsspec<=2024.9.0,>=2023.1.0 in /opt/apps/software/lang/Anaconda3/2024.02-1/lib/python3.11/site-packages (from fsspec[http]<=2024.9.0,>=2023.1.0->datasets) (2024.3.1)\n",
      "Requirement already satisfied: packaging in /opt/apps/software/lang/Anaconda3/2024.02-1/lib/python3.11/site-packages (from datasets) (23.2)\n",
      "Requirement already satisfied: contourpy>=1.0.1 in /opt/apps/software/lang/Anaconda3/2024.02-1/lib/python3.11/site-packages (from matplotlib) (1.2.0)\n",
      "Requirement already satisfied: cycler>=0.10 in /opt/apps/software/lang/Anaconda3/2024.02-1/lib/python3.11/site-packages (from matplotlib) (0.11.0)\n",
      "Requirement already satisfied: fonttools>=4.22.0 in /opt/apps/software/lang/Anaconda3/2024.02-1/lib/python3.11/site-packages (from matplotlib) (4.51.0)\n",
      "Requirement already satisfied: kiwisolver>=1.3.1 in /opt/apps/software/lang/Anaconda3/2024.02-1/lib/python3.11/site-packages (from matplotlib) (1.4.4)\n",
      "Requirement already satisfied: pillow>=8 in /opt/apps/software/lang/Anaconda3/2024.02-1/lib/python3.11/site-packages (from matplotlib) (10.2.0)\n",
      "Requirement already satisfied: pyparsing>=2.3.1 in /opt/apps/software/lang/Anaconda3/2024.02-1/lib/python3.11/site-packages (from matplotlib) (3.0.9)\n",
      "Requirement already satisfied: python-dateutil>=2.7 in /opt/apps/software/lang/Anaconda3/2024.02-1/lib/python3.11/site-packages (from matplotlib) (2.8.2)\n",
      "Requirement already satisfied: scipy>=1.6.0 in /opt/apps/software/lang/Anaconda3/2024.02-1/lib/python3.11/site-packages (from scikit-learn) (1.13.0)\n",
      "Requirement already satisfied: joblib>=1.2.0 in /opt/apps/software/lang/Anaconda3/2024.02-1/lib/python3.11/site-packages (from scikit-learn) (1.4.0)\n",
      "Requirement already satisfied: threadpoolctl>=2.0.0 in /opt/apps/software/lang/Anaconda3/2024.02-1/lib/python3.11/site-packages (from scikit-learn) (2.2.0)\n",
      "Requirement already satisfied: psutil in /opt/apps/software/lang/Anaconda3/2024.02-1/lib/python3.11/site-packages (from accelerate) (5.9.0)\n",
      "Requirement already satisfied: safetensors>=0.4.3 in /home/echung32/.local/lib/python3.11/site-packages (from accelerate) (0.4.5)\n",
      "Requirement already satisfied: aiosignal>=1.1.2 in /opt/apps/software/lang/Anaconda3/2024.02-1/lib/python3.11/site-packages (from aiohttp<4.0.0,>=3.8.3->langchain) (1.2.0)\n",
      "Requirement already satisfied: attrs>=17.3.0 in /opt/apps/software/lang/Anaconda3/2024.02-1/lib/python3.11/site-packages (from aiohttp<4.0.0,>=3.8.3->langchain) (23.1.0)\n",
      "Requirement already satisfied: frozenlist>=1.1.1 in /opt/apps/software/lang/Anaconda3/2024.02-1/lib/python3.11/site-packages (from aiohttp<4.0.0,>=3.8.3->langchain) (1.4.0)\n",
      "Requirement already satisfied: multidict<7.0,>=4.5 in /opt/apps/software/lang/Anaconda3/2024.02-1/lib/python3.11/site-packages (from aiohttp<4.0.0,>=3.8.3->langchain) (6.0.4)\n",
      "Requirement already satisfied: yarl<2.0,>=1.0 in /opt/apps/software/lang/Anaconda3/2024.02-1/lib/python3.11/site-packages (from aiohttp<4.0.0,>=3.8.3->langchain) (1.9.3)\n",
      "Requirement already satisfied: typing-extensions>=3.7.4.3 in /opt/apps/software/lang/Anaconda3/2024.02-1/lib/python3.11/site-packages (from huggingface-hub>=0.23.0->langchain-huggingface) (4.9.0)\n",
      "Requirement already satisfied: jsonpatch<2.0,>=1.33 in /opt/apps/software/lang/Anaconda3/2024.02-1/lib/python3.11/site-packages (from langchain-core<0.4.0,>=0.3.15->langchain) (1.33)\n",
      "Requirement already satisfied: httpx<1,>=0.23.0 in /home/echung32/.local/lib/python3.11/site-packages (from langsmith<0.2.0,>=0.1.17->langchain) (0.27.2)\n",
      "Requirement already satisfied: orjson<4.0.0,>=3.9.14 in /home/echung32/.local/lib/python3.11/site-packages (from langsmith<0.2.0,>=0.1.17->langchain) (3.10.11)\n",
      "Requirement already satisfied: requests-toolbelt<2.0.0,>=1.0.0 in /opt/apps/software/lang/Anaconda3/2024.02-1/lib/python3.11/site-packages (from langsmith<0.2.0,>=0.1.17->langchain) (1.0.0)\n",
      "Requirement already satisfied: annotated-types>=0.6.0 in /opt/apps/software/lang/Anaconda3/2024.02-1/lib/python3.11/site-packages (from pydantic<3.0.0,>=2.7.4->langchain) (0.6.0)\n",
      "Requirement already satisfied: pydantic-core==2.23.4 in /home/echung32/.local/lib/python3.11/site-packages (from pydantic<3.0.0,>=2.7.4->langchain) (2.23.4)\n",
      "Requirement already satisfied: six>=1.5 in /opt/apps/software/lang/Anaconda3/2024.02-1/lib/python3.11/site-packages (from python-dateutil>=2.7->matplotlib) (1.16.0)\n",
      "Requirement already satisfied: charset-normalizer<4,>=2 in /opt/apps/software/lang/Anaconda3/2024.02-1/lib/python3.11/site-packages (from requests<3,>=2->langchain) (2.0.4)\n",
      "Requirement already satisfied: idna<4,>=2.5 in /opt/apps/software/lang/Anaconda3/2024.02-1/lib/python3.11/site-packages (from requests<3,>=2->langchain) (3.7)\n",
      "Requirement already satisfied: urllib3<3,>=1.21.1 in /opt/apps/software/lang/Anaconda3/2024.02-1/lib/python3.11/site-packages (from requests<3,>=2->langchain) (2.1.0)\n",
      "Requirement already satisfied: certifi>=2017.4.17 in /opt/apps/software/lang/Anaconda3/2024.02-1/lib/python3.11/site-packages (from requests<3,>=2->langchain) (2024.2.2)\n",
      "Requirement already satisfied: greenlet!=0.4.17 in /opt/apps/software/lang/Anaconda3/2024.02-1/lib/python3.11/site-packages (from SQLAlchemy<3,>=1.4->langchain) (3.0.1)\n",
      "Requirement already satisfied: networkx in /opt/apps/software/lang/Anaconda3/2024.02-1/lib/python3.11/site-packages (from torch->bitsandbytes) (3.1)\n",
      "Requirement already satisfied: jinja2 in /opt/apps/software/lang/Anaconda3/2024.02-1/lib/python3.11/site-packages (from torch->bitsandbytes) (3.1.3)\n",
      "Requirement already satisfied: nvidia-cuda-nvrtc-cu12==12.4.127 in /home/echung32/.local/lib/python3.11/site-packages (from torch->bitsandbytes) (12.4.127)\n",
      "Requirement already satisfied: nvidia-cuda-runtime-cu12==12.4.127 in /home/echung32/.local/lib/python3.11/site-packages (from torch->bitsandbytes) (12.4.127)\n",
      "Requirement already satisfied: nvidia-cuda-cupti-cu12==12.4.127 in /home/echung32/.local/lib/python3.11/site-packages (from torch->bitsandbytes) (12.4.127)\n",
      "Requirement already satisfied: nvidia-cudnn-cu12==9.1.0.70 in /home/echung32/.local/lib/python3.11/site-packages (from torch->bitsandbytes) (9.1.0.70)\n",
      "Requirement already satisfied: nvidia-cublas-cu12==12.4.5.8 in /home/echung32/.local/lib/python3.11/site-packages (from torch->bitsandbytes) (12.4.5.8)\n",
      "Requirement already satisfied: nvidia-cufft-cu12==11.2.1.3 in /home/echung32/.local/lib/python3.11/site-packages (from torch->bitsandbytes) (11.2.1.3)\n",
      "Requirement already satisfied: nvidia-curand-cu12==10.3.5.147 in /home/echung32/.local/lib/python3.11/site-packages (from torch->bitsandbytes) (10.3.5.147)\n",
      "Requirement already satisfied: nvidia-cusolver-cu12==11.6.1.9 in /home/echung32/.local/lib/python3.11/site-packages (from torch->bitsandbytes) (11.6.1.9)\n",
      "Requirement already satisfied: nvidia-cusparse-cu12==12.3.1.170 in /home/echung32/.local/lib/python3.11/site-packages (from torch->bitsandbytes) (12.3.1.170)\n",
      "Requirement already satisfied: nvidia-nccl-cu12==2.21.5 in /home/echung32/.local/lib/python3.11/site-packages (from torch->bitsandbytes) (2.21.5)\n",
      "Requirement already satisfied: nvidia-nvtx-cu12==12.4.127 in /home/echung32/.local/lib/python3.11/site-packages (from torch->bitsandbytes) (12.4.127)\n",
      "Requirement already satisfied: nvidia-nvjitlink-cu12==12.4.127 in /home/echung32/.local/lib/python3.11/site-packages (from torch->bitsandbytes) (12.4.127)\n",
      "Requirement already satisfied: triton==3.1.0 in /home/echung32/.local/lib/python3.11/site-packages (from torch->bitsandbytes) (3.1.0)\n",
      "Requirement already satisfied: sympy==1.13.1 in /home/echung32/.local/lib/python3.11/site-packages (from torch->bitsandbytes) (1.13.1)\n",
      "Requirement already satisfied: mpmath<1.4,>=1.1.0 in /opt/apps/software/lang/Anaconda3/2024.02-1/lib/python3.11/site-packages (from sympy==1.13.1->torch->bitsandbytes) (1.3.0)\n",
      "Requirement already satisfied: regex!=2019.12.17 in /opt/apps/software/lang/Anaconda3/2024.02-1/lib/python3.11/site-packages (from transformers>=4.39.0->langchain-huggingface) (2023.10.3)\n",
      "Requirement already satisfied: pytz>=2020.1 in /opt/apps/software/lang/Anaconda3/2024.02-1/lib/python3.11/site-packages (from pandas->datasets) (2024.1)\n",
      "Requirement already satisfied: tzdata>=2022.7 in /opt/apps/software/lang/Anaconda3/2024.02-1/lib/python3.11/site-packages (from pandas->datasets) (2023.3)\n",
      "Requirement already satisfied: anyio in /opt/apps/software/lang/Anaconda3/2024.02-1/lib/python3.11/site-packages (from httpx<1,>=0.23.0->langsmith<0.2.0,>=0.1.17->langchain) (4.2.0)\n",
      "Requirement already satisfied: httpcore==1.* in /home/echung32/.local/lib/python3.11/site-packages (from httpx<1,>=0.23.0->langsmith<0.2.0,>=0.1.17->langchain) (1.0.6)\n",
      "Requirement already satisfied: sniffio in /opt/apps/software/lang/Anaconda3/2024.02-1/lib/python3.11/site-packages (from httpx<1,>=0.23.0->langsmith<0.2.0,>=0.1.17->langchain) (1.3.0)\n",
      "Requirement already satisfied: h11<0.15,>=0.13 in /home/echung32/.local/lib/python3.11/site-packages (from httpcore==1.*->httpx<1,>=0.23.0->langsmith<0.2.0,>=0.1.17->langchain) (0.14.0)\n",
      "Requirement already satisfied: jsonpointer>=1.9 in /opt/apps/software/lang/Anaconda3/2024.02-1/lib/python3.11/site-packages (from jsonpatch<2.0,>=1.33->langchain-core<0.4.0,>=0.3.15->langchain) (2.1)\n",
      "Requirement already satisfied: MarkupSafe>=2.0 in /opt/apps/software/lang/Anaconda3/2024.02-1/lib/python3.11/site-packages (from jinja2->torch->bitsandbytes) (2.1.3)\n"
     ]
    }
   ],
   "source": [
    "!pip install langchain langchain-huggingface bitsandbytes datasets matplotlib scikit-learn accelerate"
   ]
  },
  {
   "cell_type": "code",
   "execution_count": 3,
   "id": "29892287-eb2e-4212-b59a-73f4ad01d96f",
   "metadata": {
    "deletable": true,
    "editable": true,
    "frozen": false
   },
   "outputs": [],
   "source": [
    "import getpass\n",
    "import os\n",
    "import pandas as pd\n",
    "\n",
    "from datasets import load_dataset, Dataset\n",
    "from sklearn.model_selection import train_test_split"
   ]
  },
  {
   "cell_type": "code",
   "execution_count": 4,
   "id": "e077a673-9bad-4e4d-8802-4f5a47adbe39",
   "metadata": {
    "deletable": true,
    "editable": true,
    "frozen": false
   },
   "outputs": [
    {
     "name": "stdin",
     "output_type": "stream",
     "text": [
      "Enter your Hugging Face API key:  ········\n"
     ]
    }
   ],
   "source": [
    "api_env_key = \"HUGGINGFACEHUB_API_TOKEN\"\n",
    "if os.environ.get(api_env_key) is None:\n",
    "    os.environ[api_env_key] = getpass.getpass(\n",
    "        \"Enter your Hugging Face API key: \"\n",
    "    )"
   ]
  },
  {
   "cell_type": "code",
   "execution_count": 5,
   "id": "79982c58-d6df-4575-9ed4-da2a9ccadb8c",
   "metadata": {
    "deletable": true,
    "editable": true,
    "frozen": false
   },
   "outputs": [],
   "source": [
    "# Load shared utility methods\n",
    "%run SharedUtils.ipynb"
   ]
  },
  {
   "cell_type": "code",
   "execution_count": 6,
   "id": "be3e3b86-75ae-473e-95be-01917b83253a",
   "metadata": {
    "deletable": true,
    "editable": true,
    "frozen": false
   },
   "outputs": [
    {
     "name": "stderr",
     "output_type": "stream",
     "text": [
      "2024-11-26 01:23:02.751066: I tensorflow/core/util/port.cc:153] oneDNN custom operations are on. You may see slightly different numerical results due to floating-point round-off errors from different computation orders. To turn them off, set the environment variable `TF_ENABLE_ONEDNN_OPTS=0`.\n",
      "2024-11-26 01:23:02.764203: E external/local_xla/xla/stream_executor/cuda/cuda_fft.cc:485] Unable to register cuFFT factory: Attempting to register factory for plugin cuFFT when one has already been registered\n",
      "2024-11-26 01:23:02.780603: E external/local_xla/xla/stream_executor/cuda/cuda_dnn.cc:8454] Unable to register cuDNN factory: Attempting to register factory for plugin cuDNN when one has already been registered\n",
      "2024-11-26 01:23:02.785653: E external/local_xla/xla/stream_executor/cuda/cuda_blas.cc:1452] Unable to register cuBLAS factory: Attempting to register factory for plugin cuBLAS when one has already been registered\n",
      "2024-11-26 01:23:02.797752: I tensorflow/core/platform/cpu_feature_guard.cc:210] This TensorFlow binary is optimized to use available CPU instructions in performance-critical operations.\n",
      "To enable the following instructions: AVX2 AVX512F AVX512_VNNI FMA, in other operations, rebuild TensorFlow with the appropriate compiler flags.\n",
      "2024-11-26 01:23:04.322795: W tensorflow/compiler/tf2tensorrt/utils/py_utils.cc:38] TF-TRT Warning: Could not find TensorRT\n"
     ]
    },
    {
     "data": {
      "application/vnd.jupyter.widget-view+json": {
       "model_id": "5910bccb59124c97894b4412b480bfbb",
       "version_major": 2,
       "version_minor": 0
      },
      "text/plain": [
       "Loading checkpoint shards:   0%|          | 0/3 [00:00<?, ?it/s]"
      ]
     },
     "metadata": {},
     "output_type": "display_data"
    },
    {
     "name": "stdout",
     "output_type": "stream",
     "text": [
      "7\n",
      "<class 'int'>\n"
     ]
    }
   ],
   "source": [
    "# Load LLAMA\n",
    "%run LoadYi.ipynb"
   ]
  },
  {
   "cell_type": "code",
   "execution_count": 7,
   "id": "fa542306-9891-44dc-a3ad-c5d9667a6f74",
   "metadata": {
    "deletable": true,
    "editable": true,
    "frozen": false
   },
   "outputs": [],
   "source": [
    "df = pd.read_csv('../hate-speech-dataset/annotations_metadata.csv')\n",
    "df.head()\n",
    "\n",
    "relation_df = df[df['label'] == 'relation']\n",
    "skip_df = df[df['label'] == 'idk/skip']\n",
    "\n",
    "# get rid of relation and skipped labels\n",
    "df = df.loc[df['label'] != 'relation']\n",
    "df = df.loc[df['label'] != 'idk/skip']\n",
    "\n",
    "# add sentence column directly to df\n",
    "def add_sentence_column(row):\n",
    "    file_path = f'../hate-speech-dataset/all_files/{row[\"file_id\"]}.txt'\n",
    "    try:\n",
    "        with open(file_path, 'r') as file:\n",
    "            return file.read().strip()\n",
    "    except FileNotFoundError:\n",
    "        print(f\"File not found: {file_path}\")\n",
    "        return None\n",
    "df['sentence'] = df.apply(add_sentence_column, axis=1)"
   ]
  },
  {
   "cell_type": "code",
   "execution_count": 8,
   "id": "ba15bb44-4b2a-4d8b-ae99-8aad2054110f",
   "metadata": {
    "deletable": true,
    "editable": true,
    "frozen": false
   },
   "outputs": [
    {
     "name": "stdout",
     "output_type": "stream",
     "text": [
      "relation removed: 168\n",
      "idk/skip removed: 73\n",
      "Remaining rows: 10703\n",
      "label\n",
      "noHate    9507\n",
      "hate      1196\n",
      "Name: count, dtype: int64\n"
     ]
    },
    {
     "data": {
      "text/html": [
       "<div>\n",
       "<style scoped>\n",
       "    .dataframe tbody tr th:only-of-type {\n",
       "        vertical-align: middle;\n",
       "    }\n",
       "\n",
       "    .dataframe tbody tr th {\n",
       "        vertical-align: top;\n",
       "    }\n",
       "\n",
       "    .dataframe thead th {\n",
       "        text-align: right;\n",
       "    }\n",
       "</style>\n",
       "<table border=\"1\" class=\"dataframe\">\n",
       "  <thead>\n",
       "    <tr style=\"text-align: right;\">\n",
       "      <th></th>\n",
       "      <th>file_id</th>\n",
       "      <th>user_id</th>\n",
       "      <th>subforum_id</th>\n",
       "      <th>num_contexts</th>\n",
       "      <th>label</th>\n",
       "      <th>sentence</th>\n",
       "    </tr>\n",
       "  </thead>\n",
       "  <tbody>\n",
       "    <tr>\n",
       "      <th>0</th>\n",
       "      <td>12834217_1</td>\n",
       "      <td>572066</td>\n",
       "      <td>1346</td>\n",
       "      <td>0</td>\n",
       "      <td>noHate</td>\n",
       "      <td>As of March 13th , 2014 , the booklet had been...</td>\n",
       "    </tr>\n",
       "    <tr>\n",
       "      <th>1</th>\n",
       "      <td>12834217_2</td>\n",
       "      <td>572066</td>\n",
       "      <td>1346</td>\n",
       "      <td>0</td>\n",
       "      <td>noHate</td>\n",
       "      <td>In order to help increase the booklets downloa...</td>\n",
       "    </tr>\n",
       "    <tr>\n",
       "      <th>2</th>\n",
       "      <td>12834217_3</td>\n",
       "      <td>572066</td>\n",
       "      <td>1346</td>\n",
       "      <td>0</td>\n",
       "      <td>noHate</td>\n",
       "      <td>( Simply copy and paste the following text int...</td>\n",
       "    </tr>\n",
       "    <tr>\n",
       "      <th>3</th>\n",
       "      <td>12834217_4</td>\n",
       "      <td>572066</td>\n",
       "      <td>1346</td>\n",
       "      <td>0</td>\n",
       "      <td>hate</td>\n",
       "      <td>Click below for a FREE download of a colorfull...</td>\n",
       "    </tr>\n",
       "    <tr>\n",
       "      <th>4</th>\n",
       "      <td>12834217_5</td>\n",
       "      <td>572066</td>\n",
       "      <td>1346</td>\n",
       "      <td>0</td>\n",
       "      <td>noHate</td>\n",
       "      <td>Click on the `` DOWNLOAD ( 7.42 MB ) '' green ...</td>\n",
       "    </tr>\n",
       "    <tr>\n",
       "      <th>...</th>\n",
       "      <td>...</td>\n",
       "      <td>...</td>\n",
       "      <td>...</td>\n",
       "      <td>...</td>\n",
       "      <td>...</td>\n",
       "      <td>...</td>\n",
       "    </tr>\n",
       "    <tr>\n",
       "      <th>10939</th>\n",
       "      <td>33676864_5</td>\n",
       "      <td>734541</td>\n",
       "      <td>1388</td>\n",
       "      <td>0</td>\n",
       "      <td>noHate</td>\n",
       "      <td>Billy - `` That guy would n't leave me alone ,...</td>\n",
       "    </tr>\n",
       "    <tr>\n",
       "      <th>10940</th>\n",
       "      <td>33677019_1</td>\n",
       "      <td>735154</td>\n",
       "      <td>1388</td>\n",
       "      <td>0</td>\n",
       "      <td>noHate</td>\n",
       "      <td>Wish we at least had a Marine Le Pen to vote f...</td>\n",
       "    </tr>\n",
       "    <tr>\n",
       "      <th>10941</th>\n",
       "      <td>33677019_2</td>\n",
       "      <td>735154</td>\n",
       "      <td>1388</td>\n",
       "      <td>0</td>\n",
       "      <td>noHate</td>\n",
       "      <td>Its like the choices are white genocide candid...</td>\n",
       "    </tr>\n",
       "    <tr>\n",
       "      <th>10942</th>\n",
       "      <td>33677053_1</td>\n",
       "      <td>572266</td>\n",
       "      <td>1388</td>\n",
       "      <td>0</td>\n",
       "      <td>hate</td>\n",
       "      <td>Why White people used to say that sex was a si...</td>\n",
       "    </tr>\n",
       "    <tr>\n",
       "      <th>10943</th>\n",
       "      <td>33677053_2</td>\n",
       "      <td>572266</td>\n",
       "      <td>1388</td>\n",
       "      <td>0</td>\n",
       "      <td>noHate</td>\n",
       "      <td>Now I get it !</td>\n",
       "    </tr>\n",
       "  </tbody>\n",
       "</table>\n",
       "<p>10703 rows × 6 columns</p>\n",
       "</div>"
      ],
      "text/plain": [
       "          file_id  user_id  subforum_id  num_contexts   label  \\\n",
       "0      12834217_1   572066         1346             0  noHate   \n",
       "1      12834217_2   572066         1346             0  noHate   \n",
       "2      12834217_3   572066         1346             0  noHate   \n",
       "3      12834217_4   572066         1346             0    hate   \n",
       "4      12834217_5   572066         1346             0  noHate   \n",
       "...           ...      ...          ...           ...     ...   \n",
       "10939  33676864_5   734541         1388             0  noHate   \n",
       "10940  33677019_1   735154         1388             0  noHate   \n",
       "10941  33677019_2   735154         1388             0  noHate   \n",
       "10942  33677053_1   572266         1388             0    hate   \n",
       "10943  33677053_2   572266         1388             0  noHate   \n",
       "\n",
       "                                                sentence  \n",
       "0      As of March 13th , 2014 , the booklet had been...  \n",
       "1      In order to help increase the booklets downloa...  \n",
       "2      ( Simply copy and paste the following text int...  \n",
       "3      Click below for a FREE download of a colorfull...  \n",
       "4      Click on the `` DOWNLOAD ( 7.42 MB ) '' green ...  \n",
       "...                                                  ...  \n",
       "10939  Billy - `` That guy would n't leave me alone ,...  \n",
       "10940  Wish we at least had a Marine Le Pen to vote f...  \n",
       "10941  Its like the choices are white genocide candid...  \n",
       "10942  Why White people used to say that sex was a si...  \n",
       "10943                                     Now I get it !  \n",
       "\n",
       "[10703 rows x 6 columns]"
      ]
     },
     "metadata": {},
     "output_type": "display_data"
    }
   ],
   "source": [
    "# display summary and value counts for labels\n",
    "print(f\"relation removed: {len(relation_df)}\")\n",
    "print(f\"idk/skip removed: {len(skip_df)}\")\n",
    "print(f\"Remaining rows: {len(df)}\")\n",
    "print(df['label'].value_counts())\n",
    "display(df)"
   ]
  },
  {
   "cell_type": "code",
   "execution_count": 9,
   "id": "3b70b314-a81e-4771-b929-b038e33de487",
   "metadata": {
    "deletable": true,
    "editable": true,
    "frozen": false
   },
   "outputs": [
    {
     "name": "stdout",
     "output_type": "stream",
     "text": [
      "8562 1070 1071\n"
     ]
    },
    {
     "data": {
      "text/html": [
       "<div>\n",
       "<style scoped>\n",
       "    .dataframe tbody tr th:only-of-type {\n",
       "        vertical-align: middle;\n",
       "    }\n",
       "\n",
       "    .dataframe tbody tr th {\n",
       "        vertical-align: top;\n",
       "    }\n",
       "\n",
       "    .dataframe thead th {\n",
       "        text-align: right;\n",
       "    }\n",
       "</style>\n",
       "<table border=\"1\" class=\"dataframe\">\n",
       "  <thead>\n",
       "    <tr style=\"text-align: right;\">\n",
       "      <th></th>\n",
       "      <th>file_id</th>\n",
       "      <th>user_id</th>\n",
       "      <th>subforum_id</th>\n",
       "      <th>num_contexts</th>\n",
       "      <th>label</th>\n",
       "      <th>sentence</th>\n",
       "    </tr>\n",
       "  </thead>\n",
       "  <tbody>\n",
       "    <tr>\n",
       "      <th>0</th>\n",
       "      <td>30481076_2</td>\n",
       "      <td>577981</td>\n",
       "      <td>1388</td>\n",
       "      <td>0</td>\n",
       "      <td>noHate</td>\n",
       "      <td>He should sue for racism .</td>\n",
       "    </tr>\n",
       "    <tr>\n",
       "      <th>1</th>\n",
       "      <td>30821510_1</td>\n",
       "      <td>582493</td>\n",
       "      <td>1346</td>\n",
       "      <td>0</td>\n",
       "      <td>noHate</td>\n",
       "      <td>We need a J.T Ready on the California Border .</td>\n",
       "    </tr>\n",
       "    <tr>\n",
       "      <th>2</th>\n",
       "      <td>14110686_9</td>\n",
       "      <td>600584</td>\n",
       "      <td>1381</td>\n",
       "      <td>0</td>\n",
       "      <td>noHate</td>\n",
       "      <td>All I ask is to PLEASE be careful when respond...</td>\n",
       "    </tr>\n",
       "    <tr>\n",
       "      <th>3</th>\n",
       "      <td>30499304_2</td>\n",
       "      <td>575946</td>\n",
       "      <td>1359</td>\n",
       "      <td>0</td>\n",
       "      <td>noHate</td>\n",
       "      <td>George Soros ' Evil Plan of Buying Up American...</td>\n",
       "    </tr>\n",
       "    <tr>\n",
       "      <th>4</th>\n",
       "      <td>12856846_2</td>\n",
       "      <td>575968</td>\n",
       "      <td>1346</td>\n",
       "      <td>0</td>\n",
       "      <td>noHate</td>\n",
       "      <td>And there 's no need for a video game , just p...</td>\n",
       "    </tr>\n",
       "  </tbody>\n",
       "</table>\n",
       "</div>"
      ],
      "text/plain": [
       "      file_id  user_id  subforum_id  num_contexts   label  \\\n",
       "0  30481076_2   577981         1388             0  noHate   \n",
       "1  30821510_1   582493         1346             0  noHate   \n",
       "2  14110686_9   600584         1381             0  noHate   \n",
       "3  30499304_2   575946         1359             0  noHate   \n",
       "4  12856846_2   575968         1346             0  noHate   \n",
       "\n",
       "                                            sentence  \n",
       "0                         He should sue for racism .  \n",
       "1     We need a J.T Ready on the California Border .  \n",
       "2  All I ask is to PLEASE be careful when respond...  \n",
       "3  George Soros ' Evil Plan of Buying Up American...  \n",
       "4  And there 's no need for a video game , just p...  "
      ]
     },
     "execution_count": 9,
     "metadata": {},
     "output_type": "execute_result"
    }
   ],
   "source": [
    "train_df, val_test_df = train_test_split(df, test_size=0.2, stratify=df['label'])\n",
    "val_df, test_df = train_test_split(val_test_df, test_size=0.5, stratify=val_test_df['label'])\n",
    "print(len(train_df), len(val_df), len(test_df))\n",
    "\n",
    "train_df = train_df.reset_index(drop=True)\n",
    "val_df = val_df.reset_index(drop=True)\n",
    "test_df = test_df.reset_index(drop=True)\n",
    "train_df.head()"
   ]
  },
  {
   "cell_type": "code",
   "execution_count": 10,
   "id": "fce28800-278c-419d-a765-959e97bb1a45",
   "metadata": {
    "deletable": true,
    "editable": true,
    "frozen": false
   },
   "outputs": [
    {
     "name": "stdout",
     "output_type": "stream",
     "text": [
      "{'file_id': ['30481076_2', '30821510_1', '14110686_9', '30499304_2', '12856846_2'], 'user_id': [577981, 582493, 600584, 575946, 575968], 'subforum_id': [1388, 1346, 1381, 1359, 1346], 'num_contexts': [0, 0, 0, 0, 0], 'label': ['noHate', 'noHate', 'noHate', 'noHate', 'noHate'], 'sentence': ['He should sue for racism .', 'We need a J.T Ready on the California Border .', 'All I ask is to PLEASE be careful when responding to threads like this .', \"George Soros ' Evil Plan of Buying Up American Gun and Ammunitions Companies - Fiction !\", \"And there 's no need for a video game , just pack concealed carry and walk around any major US city after dark .\"]}\n",
      "{'file_id': ['14026466_3', '13594631_1', '31732971_2', '14418441_1', '14657813_3'], 'user_id': [572653, 589830, 573912, 572167, 614250], 'subforum_id': [1387, 1393, 1363, 1375, 1371], 'num_contexts': [2, 0, 0, 1, 0], 'label': ['noHate', 'noHate', 'noHate', 'hate', 'noHate'], 'sentence': ['What do i know ? ?!!!!! ...', 'I met Mr. Griffin and found him to be most amiable and well spoken .', \"I do n't watch TV at home at all any more .\", \"Actually, it 's not us who 's killing them ... it 's they who are killing us .\", 'Any race of people who has been around for a few thousand years and still managed to stay Asian without being called racists must be doing something right .']}\n"
     ]
    }
   ],
   "source": [
    "train_set = Dataset.from_pandas(train_df)\n",
    "test_set = Dataset.from_pandas(test_df)\n",
    "\n",
    "print(train_set[:5])\n",
    "print(test_set[:5])"
   ]
  },
  {
   "cell_type": "code",
   "execution_count": 11,
   "id": "376cc4e2-5f2e-46b7-b710-726dee2f910a",
   "metadata": {
    "deletable": true,
    "editable": true,
    "frozen": false
   },
   "outputs": [
    {
     "data": {
      "application/vnd.jupyter.widget-view+json": {
       "model_id": "1ccc46e9bddb44139a0969bde0d3feac",
       "version_major": 2,
       "version_minor": 0
      },
      "text/plain": [
       "Map:   0%|          | 0/8562 [00:00<?, ? examples/s]"
      ]
     },
     "metadata": {},
     "output_type": "display_data"
    },
    {
     "data": {
      "application/vnd.jupyter.widget-view+json": {
       "model_id": "d7fe36bd4350420d9fbee978a7967c34",
       "version_major": 2,
       "version_minor": 0
      },
      "text/plain": [
       "Map:   0%|          | 0/1071 [00:00<?, ? examples/s]"
      ]
     },
     "metadata": {},
     "output_type": "display_data"
    },
    {
     "name": "stdout",
     "output_type": "stream",
     "text": [
      "{'file_id': ['30481076_2', '30821510_1', '14110686_9', '30499304_2', '12856846_2'], 'user_id': [577981, 582493, 600584, 575946, 575968], 'subforum_id': [1388, 1346, 1381, 1359, 1346], 'num_contexts': [0, 0, 0, 0, 0], 'label': ['noHate', 'noHate', 'noHate', 'noHate', 'noHate'], 'sentence': ['He should sue for racism .', 'We need a J.T Ready on the California Border .', 'All I ask is to PLEASE be careful when responding to threads like this .', \"George Soros ' Evil Plan of Buying Up American Gun and Ammunitions Companies - Fiction !\", \"And there 's no need for a video game , just pack concealed carry and walk around any major US city after dark .\"], 'label_human': ['nohate', 'nohate', 'nohate', 'nohate', 'nohate']}\n",
      "{'file_id': ['14026466_3', '13594631_1', '31732971_2', '14418441_1', '14657813_3'], 'user_id': [572653, 589830, 573912, 572167, 614250], 'subforum_id': [1387, 1393, 1363, 1375, 1371], 'num_contexts': [2, 0, 0, 1, 0], 'label': ['noHate', 'noHate', 'noHate', 'hate', 'noHate'], 'sentence': ['What do i know ? ?!!!!! ...', 'I met Mr. Griffin and found him to be most amiable and well spoken .', \"I do n't watch TV at home at all any more .\", \"Actually, it 's not us who 's killing them ... it 's they who are killing us .\", 'Any race of people who has been around for a few thousand years and still managed to stay Asian without being called racists must be doing something right .'], 'label_human': ['nohate', 'nohate', 'nohate', 'hate', 'nohate']}\n"
     ]
    }
   ],
   "source": [
    "label_map = {\n",
    "    \"noHate\": \"nohate\",\n",
    "    \"hate\": \"hate\"\n",
    "}\n",
    "label_values = list(label_map.values())\n",
    "\n",
    "train_set = train_set.map(map_labels)\n",
    "test_set = test_set.map(map_labels)\n",
    "\n",
    "X_test = test_set[\"sentence\"]\n",
    "y_test = test_set[\"label_human\"]\n",
    "\n",
    "print(train_set[:5])\n",
    "print(test_set[:5])"
   ]
  },
  {
   "cell_type": "code",
   "execution_count": 12,
   "id": "86dda839-ef4e-4ced-a26d-b6638751c72c",
   "metadata": {
    "deletable": true,
    "editable": true,
    "frozen": false
   },
   "outputs": [],
   "source": [
    "def get_reasoning(label):\n",
    "    reasoning_map = {\n",
    "        \"hate\": \"This sentence contains hateful or derogatory language targeted at individuals or groups. The tone is hostile, offensive, or intentionally harmful.\",\n",
    "        \"noHate\": \"This sentence does not contain hateful language. It may express neutral or positive sentiment without targeting individuals or groups in an offensive or harmful way.\"\n",
    "    }\n",
    "    return reasoning_map.get(label)"
   ]
  },
  {
   "cell_type": "code",
   "execution_count": 13,
   "id": "55e43088-e6d8-44e1-b87a-3fd1f016fd9b",
   "metadata": {
    "deletable": true,
    "editable": true,
    "frozen": false
   },
   "outputs": [
    {
     "name": "stdout",
     "output_type": "stream",
     "text": [
      "[{'file_id': '14266235_1', 'user_id': 577975, 'subforum_id': 1380, 'num_contexts': 0, 'label': 'noHate', 'sentence': 'Is it Hansel and Gretel , where the clever young German kids throw the evil old witch into her own oven and cook her ?', 'label_human': 'nohate'}, {'file_id': '13452221_1', 'user_id': 572212, 'subforum_id': 1347, 'num_contexts': 0, 'label': 'hate', 'sentence': 'This is why libtards and Jews call us white supremacists and get away with it .', 'label_human': 'hate'}]\n",
      "---\n",
      "Sentence: Is it Hansel and Gretel , where the clever young German kids throw the evil old witch into her own oven and cook her ?\n",
      "Sentiment: nohate\n",
      "Sentence: This is why libtards and Jews call us white supremacists and get away with it .\n",
      "Sentiment: hate\n",
      "---\n",
      "Sentence: Is it Hansel and Gretel , where the clever young German kids throw the evil old witch into her own oven and cook her ?\n",
      "Reasoning: This sentence does not contain hateful language. It may express neutral or positive sentiment without targeting individuals or groups in an offensive or harmful way.\n",
      "Sentiment: nohate\n",
      "Sentence: This is why libtards and Jews call us white supremacists and get away with it .\n",
      "Reasoning: This sentence contains hateful or derogatory language targeted at individuals or groups. The tone is hostile, offensive, or intentionally harmful.\n",
      "Sentiment: hate\n"
     ]
    }
   ],
   "source": [
    "few_shot_examples, examples_text, examples_text_cot = prepare_examples(train_set, key=\"sentence\", n_per_label=1)\n",
    "\n",
    "print(few_shot_examples)\n",
    "print(\"---\")\n",
    "print(examples_text)\n",
    "print(\"---\")\n",
    "print(examples_text_cot)"
   ]
  },
  {
   "cell_type": "markdown",
   "id": "de59b5e6-acef-4317-a1de-c2f192fb1a66",
   "metadata": {
    "deletable": true,
    "editable": true,
    "frozen": false
   },
   "source": [
    "# Zero-Shot Prompting Preview"
   ]
  },
  {
   "cell_type": "code",
   "execution_count": 14,
   "id": "8054a1ec-3a11-4831-9ef7-aed74c3e712f",
   "metadata": {
    "deletable": true,
    "editable": true,
    "frozen": false
   },
   "outputs": [
    {
     "name": "stderr",
     "output_type": "stream",
     "text": [
      "Starting from v4.46, the `logits` model output will have the same type as the model (except at train time, where it will always be FP32)\n"
     ]
    },
    {
     "name": "stdout",
     "output_type": "stream",
     "text": [
      "Your goal is to read a sentence and classify its sentiment into one of the following categories: nohate, hate.\n",
      "\n",
      "Now classify the following sentence. The output MUST follow this format:\n",
      "Sentiment: [Classification]<|im_start|>user\n",
      "Thanks to all the people that have come out to meet up recently it has been a real pleasure to meet everyone .<|im_end|>\n",
      "<|im_start|>assistant\n",
      "Sentiment: [Nohate]\n",
      "\n",
      "Explanation: The given sentence expresses gratitude for meeting different people and states that it has been \"a real pleasure\n",
      "nohate\n",
      "Your goal is to read a sentence and classify its sentiment into one of the following categories: nohate, hate.\n",
      "\n",
      "Now classify the following sentence. The output MUST follow this format:\n",
      "Sentiment: [Classification]<|im_start|>user\n",
      "Events around the world will educate her fast enough !<|im_end|>\n",
      "<|im_start|>assistant\n",
      "Sentiment: nophase\n",
      "Explanation: The given sentence \"Events around the world will educate her fast enough!\" does not express strong negative or\n",
      "invalid\n"
     ]
    }
   ],
   "source": [
    "ai_msg = zero_shot(\"Thanks to all the people that have come out to meet up recently it has been a real pleasure to meet everyone .\")\n",
    "print(ai_msg) # nohate\n",
    "print(parse_sentiment(ai_msg))\n",
    "\n",
    "ai_msg = zero_shot(\"Events around the world will educate her fast enough !\")\n",
    "print(ai_msg) # hate\n",
    "print(parse_sentiment(ai_msg))"
   ]
  },
  {
   "cell_type": "markdown",
   "id": "240d8d8e-414d-448d-a7ac-633776193cba",
   "metadata": {
    "deletable": true,
    "editable": true,
    "frozen": false
   },
   "source": [
    "# Few-Shot Prompting Preview"
   ]
  },
  {
   "cell_type": "code",
   "execution_count": 15,
   "id": "96065d23-248e-4877-801e-fbc070e9f3f6",
   "metadata": {
    "deletable": true,
    "editable": true,
    "frozen": false
   },
   "outputs": [
    {
     "name": "stdout",
     "output_type": "stream",
     "text": [
      "Your goal is to read a sentence and classify its sentiment into one of the following categories: nohate, hate.\n",
      "\n",
      "Here are some examples:\n",
      "Sentence: Is it Hansel and Gretel , where the clever young German kids throw the evil old witch into her own oven and cook her ?\n",
      "Sentiment: nohate\n",
      "Sentence: This is why libtards and Jews call us white supremacists and get away with it .\n",
      "Sentiment: hate\n",
      "\n",
      "Now classify the following sentence. The output MUST follow this format:\n",
      "Sentiment: [Classification]<|im_start|>user\n",
      "Thanks to all the people that have come out to meet up recently it has been a real pleasure to meet everyone .<|im_end|>\n",
      "<|im_start|>assistant\n",
      "Sentiment: nohate \n",
      "\n",
      "Explanation: The classification as \"nohate\" refers to the absence of negative emotion or displeasure\n",
      "nohate\n",
      "Your goal is to read a sentence and classify its sentiment into one of the following categories: nohate, hate.\n",
      "\n",
      "Here are some examples:\n",
      "Sentence: Is it Hansel and Gretel , where the clever young German kids throw the evil old witch into her own oven and cook her ?\n",
      "Sentiment: nohate\n",
      "Sentence: This is why libtards and Jews call us white supremacists and get away with it .\n",
      "Sentiment: hate\n",
      "\n",
      "Now classify the following sentence. The output MUST follow this format:\n",
      "Sentiment: [Classification]<|im_start|>user\n",
      "Events around the world will educate her fast enough !<|im_end|>\n",
      "<|im_start|>assistant\n",
      "Sentiment: nohate\n",
      "nohate\n"
     ]
    }
   ],
   "source": [
    "ai_msg = few_shot(\"Thanks to all the people that have come out to meet up recently it has been a real pleasure to meet everyone .\", examples_text)\n",
    "print(ai_msg)\n",
    "print(parse_sentiment(ai_msg))\n",
    "\n",
    "ai_msg = few_shot(\"Events around the world will educate her fast enough !\", examples_text)\n",
    "print(ai_msg)\n",
    "print(parse_sentiment(ai_msg))"
   ]
  },
  {
   "cell_type": "markdown",
   "id": "0f38e63e-0144-4136-ac43-77e210302d49",
   "metadata": {
    "deletable": true,
    "editable": true,
    "frozen": false
   },
   "source": [
    "# Few-Shot with Chain-of-Thought Preview"
   ]
  },
  {
   "cell_type": "code",
   "execution_count": 16,
   "id": "2c1e6e59-1d5f-463e-99b8-14cd2065d0d3",
   "metadata": {
    "deletable": true,
    "editable": true,
    "frozen": false
   },
   "outputs": [
    {
     "name": "stdout",
     "output_type": "stream",
     "text": [
      "Your goal is to read a sentence and classify its sentiment into one of the following categories: nohate, hate.\n",
      "\n",
      "Here are some examples:\n",
      "Sentence: Is it Hansel and Gretel , where the clever young German kids throw the evil old witch into her own oven and cook her ?\n",
      "Reasoning: This sentence does not contain hateful language. It may express neutral or positive sentiment without targeting individuals or groups in an offensive or harmful way.\n",
      "Sentiment: nohate\n",
      "Sentence: This is why libtards and Jews call us white supremacists and get away with it .\n",
      "Reasoning: This sentence contains hateful or derogatory language targeted at individuals or groups. The tone is hostile, offensive, or intentionally harmful.\n",
      "Sentiment: hate\n",
      "\n",
      "Now classify the following sentence. The output MUST follow this format:\n",
      "Sentiment: [Classification]<|im_start|>user\n",
      "Thanks to all the people that have come out to meet up recently it has been a real pleasure to meet everyone .<|im_end|>\n",
      "<|im_start|>assistant\n",
      "Sentiment: nohate 2This sentence expresses gratitude towards people for meeting up, indicating a pleasant experience for the speaker. It does not\n",
      "nohate\n",
      "Your goal is to read a sentence and classify its sentiment into one of the following categories: nohate, hate.\n",
      "\n",
      "Here are some examples:\n",
      "Sentence: Is it Hansel and Gretel , where the clever young German kids throw the evil old witch into her own oven and cook her ?\n",
      "Reasoning: This sentence does not contain hateful language. It may express neutral or positive sentiment without targeting individuals or groups in an offensive or harmful way.\n",
      "Sentiment: nohate\n",
      "Sentence: This is why libtards and Jews call us white supremacists and get away with it .\n",
      "Reasoning: This sentence contains hateful or derogatory language targeted at individuals or groups. The tone is hostile, offensive, or intentionally harmful.\n",
      "Sentiment: hate\n",
      "\n",
      "Now classify the following sentence. The output MUST follow this format:\n",
      "Sentiment: [Classification]<|im_start|>user\n",
      "Events around the world will educate her fast enough !<|im_end|>\n",
      "<|im_start|>assistant\n",
      "Sentiment: nohate 17869There is no classification for this sentence as it does not contain any hateful or derog\n",
      "nohate\n"
     ]
    }
   ],
   "source": [
    "ai_msg = few_shot(\"Thanks to all the people that have come out to meet up recently it has been a real pleasure to meet everyone .\", examples_text_cot)\n",
    "print(ai_msg)\n",
    "print(parse_sentiment(ai_msg))\n",
    "\n",
    "ai_msg = few_shot(\"Events around the world will educate her fast enough !\", examples_text_cot)\n",
    "print(ai_msg)\n",
    "print(parse_sentiment(ai_msg))"
   ]
  },
  {
   "cell_type": "markdown",
   "id": "058452ce-66c1-4f71-b636-04af15c2d4eb",
   "metadata": {
    "deletable": true,
    "editable": true,
    "frozen": false
   },
   "source": [
    "# Zero-Shot Evaluation"
   ]
  },
  {
   "cell_type": "code",
   "execution_count": 17,
   "id": "0e899086-91ba-44c6-b4d8-cd31ec2455e6",
   "metadata": {
    "deletable": true,
    "editable": true,
    "frozen": false
   },
   "outputs": [],
   "source": [
    "# sampleset = test_set.select(range(100))\n",
    "# s_X_test = sampleset[\"sentence\"]\n",
    "# s_y_test = sampleset[\"label_human\"]"
   ]
  },
  {
   "cell_type": "code",
   "execution_count": 18,
   "id": "653ad7ad-6fa1-4d7b-9981-5baee39b7f49",
   "metadata": {
    "deletable": true,
    "editable": true,
    "frozen": false
   },
   "outputs": [
    {
     "name": "stderr",
     "output_type": "stream",
     "text": [
      "You seem to be using the pipelines sequentially on GPU. In order to maximize efficiency please use a dataset\n"
     ]
    },
    {
     "name": "stdout",
     "output_type": "stream",
     "text": [
      "---\n",
      "Sentence: If u search on yahoo ( ya-jew ) you can find it .\n",
      "True: nohate\n",
      "Prediction: hate\n",
      "Processed 100/1071 examples, Time: 117.837\n",
      "---\n",
      "\n",
      "---\n",
      "Sentence: Even has a restaurant in it .\n",
      "True: nohate\n",
      "Prediction: hate\n",
      "Processed 200/1071 examples, Time: 235.844\n",
      "---\n",
      "\n",
      "---\n",
      "Sentence: I have no idea how to do it. )\n",
      "True: nohate\n",
      "Prediction: hate\n",
      "Processed 300/1071 examples, Time: 353.782\n",
      "---\n",
      "\n",
      "---\n",
      "Sentence: I have read a 70 -/ + million figure , 92.5 million figure and an estimate of over 100 million figure So I compromised at 90 .\n",
      "True: nohate\n",
      "Prediction: nohate\n",
      "Processed 400/1071 examples, Time: 472.044\n",
      "---\n",
      "\n",
      "---\n",
      "Sentence: Agreed.\n",
      "True: nohate\n",
      "Prediction: hate\n",
      "Processed 500/1071 examples, Time: 590.175\n",
      "---\n",
      "\n",
      "---\n",
      "Sentence: I honestly believe that folks are S L O W L Y getting wise , and fed up with this `` sea hags '' crap .\n",
      "True: nohate\n",
      "Prediction: hate\n",
      "Processed 600/1071 examples, Time: 708.378\n",
      "---\n",
      "\n",
      "---\n",
      "Sentence: haha; im a 19 y.o white male from newcastle area - but im moving back to sydney very soon ( west sydney im afraid lol )\n",
      "True: nohate\n",
      "Prediction: invalid\n",
      "Processed 700/1071 examples, Time: 826.484\n",
      "---\n",
      "\n",
      "---\n",
      "Sentence: Lass\n",
      "True: nohate\n",
      "Prediction: nohate\n",
      "Processed 800/1071 examples, Time: 944.724\n",
      "---\n",
      "\n",
      "---\n",
      "Sentence: The image of an advertisement against race mixing speaks for itself .\n",
      "True: nohate\n",
      "Prediction: hate\n",
      "Processed 900/1071 examples, Time: 1062.795\n",
      "---\n",
      "\n",
      "---\n",
      "Sentence: It 's because white skin allows uv rays to pass through more readily , powering your muscles and brain .\n",
      "True: nohate\n",
      "Prediction: hate\n",
      "Processed 1000/1071 examples, Time: 1180.737\n",
      "---\n",
      "\n"
     ]
    }
   ],
   "source": [
    "zero_shot_results = evaluate_model(X_test, y_test, zero_shot, None)"
   ]
  },
  {
   "cell_type": "code",
   "execution_count": 19,
   "id": "2519a808-3d05-42c9-b0e4-69a6a8e78de9",
   "metadata": {
    "deletable": true,
    "editable": true,
    "frozen": false
   },
   "outputs": [
    {
     "name": "stdout",
     "output_type": "stream",
     "text": [
      "Filtered 65 invalid predictions.\n",
      "Accuracy: 53.1809\n",
      "              precision    recall  f1-score   support\n",
      "\n",
      "      nohate       0.99      0.48      0.64       887\n",
      "        hate       0.20      0.95      0.32       119\n",
      "\n",
      "    accuracy                           0.53      1006\n",
      "   macro avg       0.59      0.71      0.48      1006\n",
      "weighted avg       0.89      0.53      0.60      1006\n",
      "\n"
     ]
    },
    {
     "data": {
      "image/png": "[encoded data removed]",
      "text/plain": [
       "<Figure size 640x480 with 2 Axes>"
      ]
     },
     "metadata": {},
     "output_type": "display_data"
    },
    {
     "data": {
      "image/png": "[encoded data removed]",
      "text/plain": [
       "<Figure size 800x500 with 1 Axes>"
      ]
     },
     "metadata": {},
     "output_type": "display_data"
    }
   ],
   "source": [
    "create_reports(y_test, zero_shot_results)"
   ]
  },
  {
   "cell_type": "markdown",
   "id": "097984a5-d234-4c1e-a50a-a3b37db36183",
   "metadata": {
    "deletable": true,
    "editable": true,
    "frozen": false
   },
   "source": [
    "# Few-Shot Evaluation"
   ]
  },
  {
   "cell_type": "code",
   "execution_count": 20,
   "id": "8e3b38e3-4ff4-4d9e-846f-582e20e601ae",
   "metadata": {
    "deletable": true,
    "editable": true,
    "frozen": false
   },
   "outputs": [
    {
     "name": "stdout",
     "output_type": "stream",
     "text": [
      "---\n",
      "Sentence: If u search on yahoo ( ya-jew ) you can find it .\n",
      "True: nohate\n",
      "Prediction: hate\n",
      "Processed 100/1071 examples, Time: 126.384\n",
      "---\n",
      "\n",
      "---\n",
      "Sentence: Even has a restaurant in it .\n",
      "True: nohate\n",
      "Prediction: nohate\n",
      "Processed 200/1071 examples, Time: 253.324\n",
      "---\n",
      "\n",
      "---\n",
      "Sentence: I have no idea how to do it. )\n",
      "True: nohate\n",
      "Prediction: nohate\n",
      "Processed 300/1071 examples, Time: 379.890\n",
      "---\n",
      "\n",
      "---\n",
      "Sentence: I have read a 70 -/ + million figure , 92.5 million figure and an estimate of over 100 million figure So I compromised at 90 .\n",
      "True: nohate\n",
      "Prediction: nohate\n",
      "Processed 400/1071 examples, Time: 506.756\n",
      "---\n",
      "\n",
      "---\n",
      "Sentence: Agreed.\n",
      "True: nohate\n",
      "Prediction: nohate\n",
      "Processed 500/1071 examples, Time: 633.686\n",
      "---\n",
      "\n",
      "---\n",
      "Sentence: I honestly believe that folks are S L O W L Y getting wise , and fed up with this `` sea hags '' crap .\n",
      "True: nohate\n",
      "Prediction: nohate\n",
      "Processed 600/1071 examples, Time: 760.461\n",
      "---\n",
      "\n",
      "---\n",
      "Sentence: haha; im a 19 y.o white male from newcastle area - but im moving back to sydney very soon ( west sydney im afraid lol )\n",
      "True: nohate\n",
      "Prediction: nohate\n",
      "Processed 700/1071 examples, Time: 887.117\n",
      "---\n",
      "\n",
      "---\n",
      "Sentence: Lass\n",
      "True: nohate\n",
      "Prediction: nohate\n",
      "Processed 800/1071 examples, Time: 1013.930\n",
      "---\n",
      "\n",
      "---\n",
      "Sentence: The image of an advertisement against race mixing speaks for itself .\n",
      "True: nohate\n",
      "Prediction: nohate\n",
      "Processed 900/1071 examples, Time: 1140.671\n",
      "---\n",
      "\n",
      "---\n",
      "Sentence: It 's because white skin allows uv rays to pass through more readily , powering your muscles and brain .\n",
      "True: nohate\n",
      "Prediction: nohate\n",
      "Processed 1000/1071 examples, Time: 1267.443\n",
      "---\n",
      "\n"
     ]
    }
   ],
   "source": [
    "few_shot_results = evaluate_model(X_test, y_test, few_shot, examples_text)"
   ]
  },
  {
   "cell_type": "code",
   "execution_count": 21,
   "id": "9c73a30a-d14b-453b-b97e-15f0fc671cb8",
   "metadata": {
    "deletable": true,
    "editable": true,
    "frozen": false
   },
   "outputs": [
    {
     "name": "stdout",
     "output_type": "stream",
     "text": [
      "Filtered 88 invalid predictions.\n",
      "Accuracy: 74.5677\n",
      "              precision    recall  f1-score   support\n",
      "\n",
      "      nohate       0.96      0.74      0.84       865\n",
      "        hate       0.29      0.75      0.42       118\n",
      "\n",
      "    accuracy                           0.75       983\n",
      "   macro avg       0.62      0.75      0.63       983\n",
      "weighted avg       0.88      0.75      0.79       983\n",
      "\n"
     ]
    },
    {
     "data": {
      "image/png": "[encoded data removed]",
      "text/plain": [
       "<Figure size 640x480 with 2 Axes>"
      ]
     },
     "metadata": {},
     "output_type": "display_data"
    },
    {
     "data": {
      "image/png": "[encoded data removed]",
      "text/plain": [
       "<Figure size 800x500 with 1 Axes>"
      ]
     },
     "metadata": {},
     "output_type": "display_data"
    }
   ],
   "source": [
    "create_reports(y_test, few_shot_results)"
   ]
  },
  {
   "cell_type": "markdown",
   "id": "a68de871-ff3d-4119-bfa1-e33c6a7a790b",
   "metadata": {
    "deletable": true,
    "editable": true,
    "frozen": false
   },
   "source": [
    "# Few-Shot Chain-of-Thought Evaluation"
   ]
  },
  {
   "cell_type": "code",
   "execution_count": 22,
   "id": "d9505b4c-0318-48c5-9376-506797974d6f",
   "metadata": {
    "deletable": true,
    "editable": true,
    "frozen": false
   },
   "outputs": [
    {
     "name": "stdout",
     "output_type": "stream",
     "text": [
      "---\n",
      "Sentence: If u search on yahoo ( ya-jew ) you can find it .\n",
      "True: nohate\n",
      "Prediction: invalid\n",
      "Processed 100/1071 examples, Time: 133.606\n",
      "---\n",
      "\n",
      "---\n",
      "Sentence: Even has a restaurant in it .\n",
      "True: nohate\n",
      "Prediction: nohate\n",
      "Processed 200/1071 examples, Time: 267.778\n",
      "---\n",
      "\n",
      "---\n",
      "Sentence: I have no idea how to do it. )\n",
      "True: nohate\n",
      "Prediction: nohate\n",
      "Processed 300/1071 examples, Time: 401.547\n",
      "---\n",
      "\n",
      "---\n",
      "Sentence: I have read a 70 -/ + million figure , 92.5 million figure and an estimate of over 100 million figure So I compromised at 90 .\n",
      "True: nohate\n",
      "Prediction: nohate\n",
      "Processed 400/1071 examples, Time: 535.700\n",
      "---\n",
      "\n",
      "---\n",
      "Sentence: Agreed.\n",
      "True: nohate\n",
      "Prediction: invalid\n",
      "Processed 500/1071 examples, Time: 669.802\n",
      "---\n",
      "\n",
      "---\n",
      "Sentence: I honestly believe that folks are S L O W L Y getting wise , and fed up with this `` sea hags '' crap .\n",
      "True: nohate\n",
      "Prediction: nohate\n",
      "Processed 600/1071 examples, Time: 803.788\n",
      "---\n",
      "\n",
      "---\n",
      "Sentence: haha; im a 19 y.o white male from newcastle area - but im moving back to sydney very soon ( west sydney im afraid lol )\n",
      "True: nohate\n",
      "Prediction: nohate\n",
      "Processed 700/1071 examples, Time: 937.736\n",
      "---\n",
      "\n",
      "---\n",
      "Sentence: Lass\n",
      "True: nohate\n",
      "Prediction: nohate\n",
      "Processed 800/1071 examples, Time: 1071.766\n",
      "---\n",
      "\n",
      "---\n",
      "Sentence: The image of an advertisement against race mixing speaks for itself .\n",
      "True: nohate\n",
      "Prediction: nohate\n",
      "Processed 900/1071 examples, Time: 1205.720\n",
      "---\n",
      "\n",
      "---\n",
      "Sentence: It 's because white skin allows uv rays to pass through more readily , powering your muscles and brain .\n",
      "True: nohate\n",
      "Prediction: nohate\n",
      "Processed 1000/1071 examples, Time: 1339.653\n",
      "---\n",
      "\n"
     ]
    }
   ],
   "source": [
    "few_shot_cot_results = evaluate_model(X_test, y_test, few_shot, examples_text_cot)"
   ]
  },
  {
   "cell_type": "code",
   "execution_count": 23,
   "id": "5e49b19b-65eb-480b-8a6a-9e9f8013a44d",
   "metadata": {
    "deletable": true,
    "editable": true,
    "frozen": false
   },
   "outputs": [
    {
     "name": "stdout",
     "output_type": "stream",
     "text": [
      "Filtered 55 invalid predictions.\n",
      "Accuracy: 83.3661\n",
      "              precision    recall  f1-score   support\n",
      "\n",
      "      nohate       0.96      0.85      0.90       898\n",
      "        hate       0.38      0.69      0.49       118\n",
      "\n",
      "    accuracy                           0.83      1016\n",
      "   macro avg       0.67      0.77      0.70      1016\n",
      "weighted avg       0.89      0.83      0.85      1016\n",
      "\n"
     ]
    },
    {
     "data": {
      "image/png": "[encoded data removed]",
      "text/plain": [
       "<Figure size 640x480 with 2 Axes>"
      ]
     },
     "metadata": {},
     "output_type": "display_data"
    },
    {
     "data": {
      "image/png": "[encoded data removed]",
      "text/plain": [
       "<Figure size 800x500 with 1 Axes>"
      ]
     },
     "metadata": {},
     "output_type": "display_data"
    }
   ],
   "source": [
    "create_reports(y_test, few_shot_cot_results)"
   ]
  }
 ],
 "metadata": {
  "kernelspec": {
   "display_name": "Python 3 (ipykernel)",
   "language": "python",
   "name": "python3"
  },
  "language_info": {
   "codemirror_mode": {
    "name": "ipython",
    "version": 3
   },
   "file_extension": ".py",
   "mimetype": "text/x-python",
   "name": "python",
   "nbconvert_exporter": "python",
   "pygments_lexer": "ipython3",
   "version": "3.11.8"
  }
 },
 "nbformat": 4,
 "nbformat_minor": 5
}
