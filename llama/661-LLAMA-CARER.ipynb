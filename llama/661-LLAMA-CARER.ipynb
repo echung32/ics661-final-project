{
 "cells": [
  {
   "cell_type": "markdown",
   "id": "41d40012-ab6d-4d04-99b7-a941989e6345",
   "metadata": {
    "deletable": true,
    "editable": true,
    "frozen": false
   },
   "source": [
    "# setup"
   ]
  },
  {
   "cell_type": "code",
   "execution_count": 1,
   "id": "8c07cd71-b5ad-4140-b243-f3ba985418d7",
   "metadata": {
    "deletable": true,
    "editable": true,
    "frozen": false
   },
   "outputs": [
    {
     "name": "stdout",
     "output_type": "stream",
     "text": [
      "Sun Nov 24 11:30:23 2024       \n",
      "+-----------------------------------------------------------------------------------------+\n",
      "| NVIDIA-SMI 555.42.06              Driver Version: 555.42.06      CUDA Version: 12.5     |\n",
      "|-----------------------------------------+------------------------+----------------------+\n",
      "| GPU  Name                 Persistence-M | Bus-Id          Disp.A | Volatile Uncorr. ECC |\n",
      "| Fan  Temp   Perf          Pwr:Usage/Cap |           Memory-Usage | GPU-Util  Compute M. |\n",
      "|                                         |                        |               MIG M. |\n",
      "|=========================================+========================+======================|\n",
      "|   0  Tesla V100-SXM2-32GB           On  |   00000000:85:00.0 Off |                    0 |\n",
      "| N/A   34C    P0             44W /  300W |       1MiB /  32768MiB |      0%      Default |\n",
      "|                                         |                        |                  N/A |\n",
      "+-----------------------------------------+------------------------+----------------------+\n",
      "                                                                                         \n",
      "+-----------------------------------------------------------------------------------------+\n",
      "| Processes:                                                                              |\n",
      "|  GPU   GI   CI        PID   Type   Process name                              GPU Memory |\n",
      "|        ID   ID                                                               Usage      |\n",
      "|=========================================================================================|\n",
      "|  No running processes found                                                             |\n",
      "+-----------------------------------------------------------------------------------------+\n"
     ]
    }
   ],
   "source": [
    "!nvidia-smi"
   ]
  },
  {
   "cell_type": "code",
   "execution_count": 2,
   "id": "25d13bf0-174e-40ca-9f38-3b8bbf9ab38b",
   "metadata": {
    "deletable": true,
    "editable": true,
    "frozen": false
   },
   "outputs": [
    {
     "name": "stdout",
     "output_type": "stream",
     "text": [
      "Defaulting to user installation because normal site-packages is not writeable\n",
      "Requirement already satisfied: langchain in /home/echung32/.local/lib/python3.11/site-packages (0.3.7)\n",
      "Requirement already satisfied: langchain-huggingface in /home/echung32/.local/lib/python3.11/site-packages (0.1.2)\n",
      "Requirement already satisfied: bitsandbytes in /home/echung32/.local/lib/python3.11/site-packages (0.44.1)\n",
      "Requirement already satisfied: datasets in /home/echung32/.local/lib/python3.11/site-packages (3.1.0)\n",
      "Requirement already satisfied: matplotlib in /opt/apps/software/lang/Anaconda3/2024.02-1/lib/python3.11/site-packages (3.8.4)\n",
      "Requirement already satisfied: scikit-learn in /opt/apps/software/lang/Anaconda3/2024.02-1/lib/python3.11/site-packages (1.4.2)\n",
      "Requirement already satisfied: PyYAML>=5.3 in /opt/apps/software/lang/Anaconda3/2024.02-1/lib/python3.11/site-packages (from langchain) (6.0.1)\n",
      "Requirement already satisfied: SQLAlchemy<3,>=1.4 in /opt/apps/software/lang/Anaconda3/2024.02-1/lib/python3.11/site-packages (from langchain) (2.0.25)\n",
      "Requirement already satisfied: aiohttp<4.0.0,>=3.8.3 in /opt/apps/software/lang/Anaconda3/2024.02-1/lib/python3.11/site-packages (from langchain) (3.9.3)\n",
      "Requirement already satisfied: langchain-core<0.4.0,>=0.3.15 in /home/echung32/.local/lib/python3.11/site-packages (from langchain) (0.3.18)\n",
      "Requirement already satisfied: langchain-text-splitters<0.4.0,>=0.3.0 in /home/echung32/.local/lib/python3.11/site-packages (from langchain) (0.3.2)\n",
      "Requirement already satisfied: langsmith<0.2.0,>=0.1.17 in /home/echung32/.local/lib/python3.11/site-packages (from langchain) (0.1.143)\n",
      "Requirement already satisfied: numpy<2,>=1 in /opt/apps/software/lang/Anaconda3/2024.02-1/lib/python3.11/site-packages (from langchain) (1.26.4)\n",
      "Requirement already satisfied: pydantic<3.0.0,>=2.7.4 in /home/echung32/.local/lib/python3.11/site-packages (from langchain) (2.9.2)\n",
      "Requirement already satisfied: requests<3,>=2 in /home/echung32/.local/lib/python3.11/site-packages (from langchain) (2.32.3)\n",
      "Requirement already satisfied: tenacity!=8.4.0,<10,>=8.1.0 in /opt/apps/software/lang/Anaconda3/2024.02-1/lib/python3.11/site-packages (from langchain) (8.2.2)\n",
      "Requirement already satisfied: huggingface-hub>=0.23.0 in /home/echung32/.local/lib/python3.11/site-packages (from langchain-huggingface) (0.26.1)\n",
      "Requirement already satisfied: sentence-transformers>=2.6.0 in /home/echung32/.local/lib/python3.11/site-packages (from langchain-huggingface) (3.3.0)\n",
      "Requirement already satisfied: tokenizers>=0.19.1 in /home/echung32/.local/lib/python3.11/site-packages (from langchain-huggingface) (0.20.1)\n",
      "Requirement already satisfied: transformers>=4.39.0 in /home/echung32/.local/lib/python3.11/site-packages (from langchain-huggingface) (4.45.2)\n",
      "Requirement already satisfied: torch in /home/echung32/.local/lib/python3.11/site-packages (from bitsandbytes) (2.5.1)\n",
      "Requirement already satisfied: filelock in /opt/apps/software/lang/Anaconda3/2024.02-1/lib/python3.11/site-packages (from datasets) (3.13.1)\n",
      "Requirement already satisfied: pyarrow>=15.0.0 in /home/echung32/.local/lib/python3.11/site-packages (from datasets) (18.0.0)\n",
      "Requirement already satisfied: dill<0.3.9,>=0.3.0 in /home/echung32/.local/lib/python3.11/site-packages (from datasets) (0.3.8)\n",
      "Requirement already satisfied: pandas in /opt/apps/software/lang/Anaconda3/2024.02-1/lib/python3.11/site-packages (from datasets) (2.2.1)\n",
      "Requirement already satisfied: tqdm>=4.66.3 in /home/echung32/.local/lib/python3.11/site-packages (from datasets) (4.67.0)\n",
      "Requirement already satisfied: xxhash in /home/echung32/.local/lib/python3.11/site-packages (from datasets) (3.5.0)\n",
      "Requirement already satisfied: multiprocess<0.70.17 in /home/echung32/.local/lib/python3.11/site-packages (from datasets) (0.70.16)\n",
      "Requirement already satisfied: fsspec<=2024.9.0,>=2023.1.0 in /opt/apps/software/lang/Anaconda3/2024.02-1/lib/python3.11/site-packages (from fsspec[http]<=2024.9.0,>=2023.1.0->datasets) (2024.3.1)\n",
      "Requirement already satisfied: packaging in /opt/apps/software/lang/Anaconda3/2024.02-1/lib/python3.11/site-packages (from datasets) (23.2)\n",
      "Requirement already satisfied: contourpy>=1.0.1 in /opt/apps/software/lang/Anaconda3/2024.02-1/lib/python3.11/site-packages (from matplotlib) (1.2.0)\n",
      "Requirement already satisfied: cycler>=0.10 in /opt/apps/software/lang/Anaconda3/2024.02-1/lib/python3.11/site-packages (from matplotlib) (0.11.0)\n",
      "Requirement already satisfied: fonttools>=4.22.0 in /opt/apps/software/lang/Anaconda3/2024.02-1/lib/python3.11/site-packages (from matplotlib) (4.51.0)\n",
      "Requirement already satisfied: kiwisolver>=1.3.1 in /opt/apps/software/lang/Anaconda3/2024.02-1/lib/python3.11/site-packages (from matplotlib) (1.4.4)\n",
      "Requirement already satisfied: pillow>=8 in /opt/apps/software/lang/Anaconda3/2024.02-1/lib/python3.11/site-packages (from matplotlib) (10.2.0)\n",
      "Requirement already satisfied: pyparsing>=2.3.1 in /opt/apps/software/lang/Anaconda3/2024.02-1/lib/python3.11/site-packages (from matplotlib) (3.0.9)\n",
      "Requirement already satisfied: python-dateutil>=2.7 in /opt/apps/software/lang/Anaconda3/2024.02-1/lib/python3.11/site-packages (from matplotlib) (2.8.2)\n",
      "Requirement already satisfied: scipy>=1.6.0 in /opt/apps/software/lang/Anaconda3/2024.02-1/lib/python3.11/site-packages (from scikit-learn) (1.13.0)\n",
      "Requirement already satisfied: joblib>=1.2.0 in /opt/apps/software/lang/Anaconda3/2024.02-1/lib/python3.11/site-packages (from scikit-learn) (1.4.0)\n",
      "Requirement already satisfied: threadpoolctl>=2.0.0 in /opt/apps/software/lang/Anaconda3/2024.02-1/lib/python3.11/site-packages (from scikit-learn) (2.2.0)\n",
      "Requirement already satisfied: aiosignal>=1.1.2 in /opt/apps/software/lang/Anaconda3/2024.02-1/lib/python3.11/site-packages (from aiohttp<4.0.0,>=3.8.3->langchain) (1.2.0)\n",
      "Requirement already satisfied: attrs>=17.3.0 in /opt/apps/software/lang/Anaconda3/2024.02-1/lib/python3.11/site-packages (from aiohttp<4.0.0,>=3.8.3->langchain) (23.1.0)\n",
      "Requirement already satisfied: frozenlist>=1.1.1 in /opt/apps/software/lang/Anaconda3/2024.02-1/lib/python3.11/site-packages (from aiohttp<4.0.0,>=3.8.3->langchain) (1.4.0)\n",
      "Requirement already satisfied: multidict<7.0,>=4.5 in /opt/apps/software/lang/Anaconda3/2024.02-1/lib/python3.11/site-packages (from aiohttp<4.0.0,>=3.8.3->langchain) (6.0.4)\n",
      "Requirement already satisfied: yarl<2.0,>=1.0 in /opt/apps/software/lang/Anaconda3/2024.02-1/lib/python3.11/site-packages (from aiohttp<4.0.0,>=3.8.3->langchain) (1.9.3)\n",
      "Requirement already satisfied: typing-extensions>=3.7.4.3 in /opt/apps/software/lang/Anaconda3/2024.02-1/lib/python3.11/site-packages (from huggingface-hub>=0.23.0->langchain-huggingface) (4.9.0)\n",
      "Requirement already satisfied: jsonpatch<2.0,>=1.33 in /opt/apps/software/lang/Anaconda3/2024.02-1/lib/python3.11/site-packages (from langchain-core<0.4.0,>=0.3.15->langchain) (1.33)\n",
      "Requirement already satisfied: httpx<1,>=0.23.0 in /home/echung32/.local/lib/python3.11/site-packages (from langsmith<0.2.0,>=0.1.17->langchain) (0.27.2)\n",
      "Requirement already satisfied: orjson<4.0.0,>=3.9.14 in /home/echung32/.local/lib/python3.11/site-packages (from langsmith<0.2.0,>=0.1.17->langchain) (3.10.11)\n",
      "Requirement already satisfied: requests-toolbelt<2.0.0,>=1.0.0 in /opt/apps/software/lang/Anaconda3/2024.02-1/lib/python3.11/site-packages (from langsmith<0.2.0,>=0.1.17->langchain) (1.0.0)\n",
      "Requirement already satisfied: annotated-types>=0.6.0 in /opt/apps/software/lang/Anaconda3/2024.02-1/lib/python3.11/site-packages (from pydantic<3.0.0,>=2.7.4->langchain) (0.6.0)\n",
      "Requirement already satisfied: pydantic-core==2.23.4 in /home/echung32/.local/lib/python3.11/site-packages (from pydantic<3.0.0,>=2.7.4->langchain) (2.23.4)\n",
      "Requirement already satisfied: six>=1.5 in /opt/apps/software/lang/Anaconda3/2024.02-1/lib/python3.11/site-packages (from python-dateutil>=2.7->matplotlib) (1.16.0)\n",
      "Requirement already satisfied: charset-normalizer<4,>=2 in /opt/apps/software/lang/Anaconda3/2024.02-1/lib/python3.11/site-packages (from requests<3,>=2->langchain) (2.0.4)\n",
      "Requirement already satisfied: idna<4,>=2.5 in /opt/apps/software/lang/Anaconda3/2024.02-1/lib/python3.11/site-packages (from requests<3,>=2->langchain) (3.7)\n",
      "Requirement already satisfied: urllib3<3,>=1.21.1 in /opt/apps/software/lang/Anaconda3/2024.02-1/lib/python3.11/site-packages (from requests<3,>=2->langchain) (2.1.0)\n",
      "Requirement already satisfied: certifi>=2017.4.17 in /opt/apps/software/lang/Anaconda3/2024.02-1/lib/python3.11/site-packages (from requests<3,>=2->langchain) (2024.2.2)\n",
      "Requirement already satisfied: greenlet!=0.4.17 in /opt/apps/software/lang/Anaconda3/2024.02-1/lib/python3.11/site-packages (from SQLAlchemy<3,>=1.4->langchain) (3.0.1)\n",
      "Requirement already satisfied: networkx in /opt/apps/software/lang/Anaconda3/2024.02-1/lib/python3.11/site-packages (from torch->bitsandbytes) (3.1)\n",
      "Requirement already satisfied: jinja2 in /opt/apps/software/lang/Anaconda3/2024.02-1/lib/python3.11/site-packages (from torch->bitsandbytes) (3.1.3)\n",
      "Requirement already satisfied: nvidia-cuda-nvrtc-cu12==12.4.127 in /home/echung32/.local/lib/python3.11/site-packages (from torch->bitsandbytes) (12.4.127)\n",
      "Requirement already satisfied: nvidia-cuda-runtime-cu12==12.4.127 in /home/echung32/.local/lib/python3.11/site-packages (from torch->bitsandbytes) (12.4.127)\n",
      "Requirement already satisfied: nvidia-cuda-cupti-cu12==12.4.127 in /home/echung32/.local/lib/python3.11/site-packages (from torch->bitsandbytes) (12.4.127)\n",
      "Requirement already satisfied: nvidia-cudnn-cu12==9.1.0.70 in /home/echung32/.local/lib/python3.11/site-packages (from torch->bitsandbytes) (9.1.0.70)\n",
      "Requirement already satisfied: nvidia-cublas-cu12==12.4.5.8 in /home/echung32/.local/lib/python3.11/site-packages (from torch->bitsandbytes) (12.4.5.8)\n",
      "Requirement already satisfied: nvidia-cufft-cu12==11.2.1.3 in /home/echung32/.local/lib/python3.11/site-packages (from torch->bitsandbytes) (11.2.1.3)\n",
      "Requirement already satisfied: nvidia-curand-cu12==10.3.5.147 in /home/echung32/.local/lib/python3.11/site-packages (from torch->bitsandbytes) (10.3.5.147)\n",
      "Requirement already satisfied: nvidia-cusolver-cu12==11.6.1.9 in /home/echung32/.local/lib/python3.11/site-packages (from torch->bitsandbytes) (11.6.1.9)\n",
      "Requirement already satisfied: nvidia-cusparse-cu12==12.3.1.170 in /home/echung32/.local/lib/python3.11/site-packages (from torch->bitsandbytes) (12.3.1.170)\n",
      "Requirement already satisfied: nvidia-nccl-cu12==2.21.5 in /home/echung32/.local/lib/python3.11/site-packages (from torch->bitsandbytes) (2.21.5)\n",
      "Requirement already satisfied: nvidia-nvtx-cu12==12.4.127 in /home/echung32/.local/lib/python3.11/site-packages (from torch->bitsandbytes) (12.4.127)\n",
      "Requirement already satisfied: nvidia-nvjitlink-cu12==12.4.127 in /home/echung32/.local/lib/python3.11/site-packages (from torch->bitsandbytes) (12.4.127)\n",
      "Requirement already satisfied: triton==3.1.0 in /home/echung32/.local/lib/python3.11/site-packages (from torch->bitsandbytes) (3.1.0)\n",
      "Requirement already satisfied: sympy==1.13.1 in /home/echung32/.local/lib/python3.11/site-packages (from torch->bitsandbytes) (1.13.1)\n",
      "Requirement already satisfied: mpmath<1.4,>=1.1.0 in /opt/apps/software/lang/Anaconda3/2024.02-1/lib/python3.11/site-packages (from sympy==1.13.1->torch->bitsandbytes) (1.3.0)\n",
      "Requirement already satisfied: regex!=2019.12.17 in /opt/apps/software/lang/Anaconda3/2024.02-1/lib/python3.11/site-packages (from transformers>=4.39.0->langchain-huggingface) (2023.10.3)\n",
      "Requirement already satisfied: safetensors>=0.4.1 in /home/echung32/.local/lib/python3.11/site-packages (from transformers>=4.39.0->langchain-huggingface) (0.4.5)\n",
      "Requirement already satisfied: pytz>=2020.1 in /opt/apps/software/lang/Anaconda3/2024.02-1/lib/python3.11/site-packages (from pandas->datasets) (2024.1)\n",
      "Requirement already satisfied: tzdata>=2022.7 in /opt/apps/software/lang/Anaconda3/2024.02-1/lib/python3.11/site-packages (from pandas->datasets) (2023.3)\n",
      "Requirement already satisfied: anyio in /opt/apps/software/lang/Anaconda3/2024.02-1/lib/python3.11/site-packages (from httpx<1,>=0.23.0->langsmith<0.2.0,>=0.1.17->langchain) (4.2.0)\n",
      "Requirement already satisfied: httpcore==1.* in /home/echung32/.local/lib/python3.11/site-packages (from httpx<1,>=0.23.0->langsmith<0.2.0,>=0.1.17->langchain) (1.0.6)\n",
      "Requirement already satisfied: sniffio in /opt/apps/software/lang/Anaconda3/2024.02-1/lib/python3.11/site-packages (from httpx<1,>=0.23.0->langsmith<0.2.0,>=0.1.17->langchain) (1.3.0)\n",
      "Requirement already satisfied: h11<0.15,>=0.13 in /home/echung32/.local/lib/python3.11/site-packages (from httpcore==1.*->httpx<1,>=0.23.0->langsmith<0.2.0,>=0.1.17->langchain) (0.14.0)\n",
      "Requirement already satisfied: jsonpointer>=1.9 in /opt/apps/software/lang/Anaconda3/2024.02-1/lib/python3.11/site-packages (from jsonpatch<2.0,>=1.33->langchain-core<0.4.0,>=0.3.15->langchain) (2.1)\n",
      "Requirement already satisfied: MarkupSafe>=2.0 in /opt/apps/software/lang/Anaconda3/2024.02-1/lib/python3.11/site-packages (from jinja2->torch->bitsandbytes) (2.1.3)\n"
     ]
    }
   ],
   "source": [
    "!pip install langchain langchain-huggingface bitsandbytes datasets matplotlib scikit-learn"
   ]
  },
  {
   "cell_type": "code",
   "execution_count": 3,
   "id": "29892287-eb2e-4212-b59a-73f4ad01d96f",
   "metadata": {
    "deletable": true,
    "editable": true,
    "frozen": false
   },
   "outputs": [],
   "source": [
    "import getpass\n",
    "import os\n",
    "import random\n",
    "import re\n",
    "import matplotlib.pyplot as plt\n",
    "\n",
    "from time import time\n",
    "from sklearn.metrics import confusion_matrix, ConfusionMatrixDisplay\n",
    "from datasets import load_dataset\n",
    "from langchain_huggingface import ChatHuggingFace, HuggingFacePipeline\n",
    "from langchain_core.messages import (\n",
    "    HumanMessage,\n",
    "    SystemMessage,\n",
    ")"
   ]
  },
  {
   "cell_type": "code",
   "execution_count": 4,
   "id": "e077a673-9bad-4e4d-8802-4f5a47adbe39",
   "metadata": {
    "deletable": true,
    "editable": true,
    "frozen": false
   },
   "outputs": [
    {
     "name": "stdin",
     "output_type": "stream",
     "text": [
      "Enter your Hugging Face API key:  ········\n"
     ]
    }
   ],
   "source": [
    "api_env_key = \"HUGGINGFACEHUB_API_TOKEN\"\n",
    "if os.environ.get(api_env_key) is None:\n",
    "    os.environ[api_env_key] = getpass.getpass(\n",
    "        \"Enter your Hugging Face API key: \"\n",
    "    )"
   ]
  },
  {
   "cell_type": "code",
   "execution_count": 5,
   "id": "6398bd9d-6dcd-43c3-9813-58b6eb09c3ad",
   "metadata": {
    "deletable": true,
    "editable": true,
    "frozen": false
   },
   "outputs": [
    {
     "name": "stderr",
     "output_type": "stream",
     "text": [
      "2024-11-24 11:30:41.005247: E external/local_xla/xla/stream_executor/cuda/cuda_fft.cc:485] Unable to register cuFFT factory: Attempting to register factory for plugin cuFFT when one has already been registered\n",
      "2024-11-24 11:30:41.029024: E external/local_xla/xla/stream_executor/cuda/cuda_dnn.cc:8454] Unable to register cuDNN factory: Attempting to register factory for plugin cuDNN when one has already been registered\n",
      "2024-11-24 11:30:41.036185: E external/local_xla/xla/stream_executor/cuda/cuda_blas.cc:1452] Unable to register cuBLAS factory: Attempting to register factory for plugin cuBLAS when one has already been registered\n",
      "2024-11-24 11:30:41.054316: I tensorflow/core/platform/cpu_feature_guard.cc:210] This TensorFlow binary is optimized to use available CPU instructions in performance-critical operations.\n",
      "To enable the following instructions: AVX2 FMA, in other operations, rebuild TensorFlow with the appropriate compiler flags.\n",
      "2024-11-24 11:30:43.208429: W tensorflow/compiler/tf2tensorrt/utils/py_utils.cc:38] TF-TRT Warning: Could not find TensorRT\n"
     ]
    },
    {
     "data": {
      "application/vnd.jupyter.widget-view+json": {
       "model_id": "80cceb421f444f8493240978ae58bb86",
       "version_major": 2,
       "version_minor": 0
      },
      "text/plain": [
       "Loading checkpoint shards:   0%|          | 0/4 [00:00<?, ?it/s]"
      ]
     },
     "metadata": {},
     "output_type": "display_data"
    }
   ],
   "source": [
    "llm = HuggingFacePipeline.from_model_id(\n",
    "    model_id=\"meta-llama/Llama-3.1-8B-Instruct\",\n",
    "    task=\"text-generation\",\n",
    "    device=0, \n",
    "    pipeline_kwargs=dict(\n",
    "        max_new_tokens=512,\n",
    "        do_sample=True,\n",
    "        repetition_penalty=1.1,\n",
    "        pad_token_id = 128009 # extracted from chat_model.llm.pipeline.tokenizer.eos_token_id\n",
    "    ),\n",
    ")"
   ]
  },
  {
   "cell_type": "code",
   "execution_count": 6,
   "id": "5882752d-4e7e-43fe-aba2-76cae1bf7e10",
   "metadata": {
    "deletable": true,
    "editable": true,
    "frozen": false
   },
   "outputs": [],
   "source": [
    "chat_model = ChatHuggingFace(llm=llm)\n",
    "chat_model.llm.pipeline.tokenizer.pad_token_id = chat_model.llm.pipeline.tokenizer.eos_token_id\n",
    "\n",
    "# class Sentiment(BaseModel):\n",
    "#     sentiment: str = Field(..., description=f\"The classification of the sentence, which should be one of: {', '.join(label_map.values())}\")\n",
    "#     reason: str = Field(..., description=\"Explanation of how the classification was decided\")\n",
    "# struct_chat_model = chat_model.with_structured_output(schema=Sentiment)\n",
    "\n",
    "# https://stackoverflow.com/questions/78883642/llama3-8b-instruct-returns-value-of-none-when-using-with-structure-output-wher\n",
    "# Seems to be a bug with structured outputs and the LLAMA 8b model."
   ]
  },
  {
   "cell_type": "code",
   "execution_count": 7,
   "id": "a437d96e-5ed6-4b37-a0f9-5ee712beddc0",
   "metadata": {
    "deletable": true,
    "editable": true,
    "frozen": false
   },
   "outputs": [
    {
     "name": "stdout",
     "output_type": "stream",
     "text": [
      "128009\n",
      "<class 'int'>\n"
     ]
    }
   ],
   "source": [
    "print(chat_model.llm.pipeline.tokenizer.eos_token_id)\n",
    "print(type(chat_model.llm.pipeline.tokenizer.eos_token_id))"
   ]
  },
  {
   "cell_type": "code",
   "execution_count": 8,
   "id": "fce28800-278c-419d-a765-959e97bb1a45",
   "metadata": {
    "deletable": true,
    "editable": true,
    "frozen": false
   },
   "outputs": [
    {
     "name": "stdout",
     "output_type": "stream",
     "text": [
      "{'text': ['i didnt feel humiliated', 'i can go from feeling so hopeless to so damned hopeful just from being around someone who cares and is awake', 'im grabbing a minute to post i feel greedy wrong', 'i am ever feeling nostalgic about the fireplace i will know that it is still on the property', 'i am feeling grouchy'], 'label': [0, 0, 3, 2, 3]}\n",
      "{'text': ['im feeling rather rotten so im not very ambitious right now', 'im updating my blog because i feel shitty', 'i never make her separate from me because i don t ever want her to feel like i m ashamed with her', 'i left with my bouquet of red and yellow tulips under my arm feeling slightly more optimistic than when i arrived', 'i was feeling a little vain when i did this one'], 'label': [0, 0, 0, 1, 0]}\n"
     ]
    }
   ],
   "source": [
    "dataset = load_dataset(\"dair-ai/emotion\", \"split\")\n",
    "\n",
    "train_set = dataset[\"train\"]\n",
    "test_set = dataset[\"test\"]\n",
    "\n",
    "print(train_set[:5])\n",
    "print(test_set[:5])"
   ]
  },
  {
   "cell_type": "code",
   "execution_count": 9,
   "id": "376cc4e2-5f2e-46b7-b710-726dee2f910a",
   "metadata": {
    "deletable": true,
    "editable": true,
    "frozen": false
   },
   "outputs": [
    {
     "name": "stdout",
     "output_type": "stream",
     "text": [
      "{'text': ['i didnt feel humiliated', 'i can go from feeling so hopeless to so damned hopeful just from being around someone who cares and is awake', 'im grabbing a minute to post i feel greedy wrong', 'i am ever feeling nostalgic about the fireplace i will know that it is still on the property', 'i am feeling grouchy'], 'label': [0, 0, 3, 2, 3], 'emotion': ['sadness', 'sadness', 'anger', 'love', 'anger']}\n",
      "{'text': ['im feeling rather rotten so im not very ambitious right now', 'im updating my blog because i feel shitty', 'i never make her separate from me because i don t ever want her to feel like i m ashamed with her', 'i left with my bouquet of red and yellow tulips under my arm feeling slightly more optimistic than when i arrived', 'i was feeling a little vain when i did this one'], 'label': [0, 0, 0, 1, 0], 'emotion': ['sadness', 'sadness', 'sadness', 'joy', 'sadness']}\n"
     ]
    }
   ],
   "source": [
    "label_map = {\n",
    "    0: \"sadness\",\n",
    "    1: \"joy\",\n",
    "    2: \"love\",\n",
    "    3: \"anger\",\n",
    "    4: \"fear\",\n",
    "    5: \"surprise\"\n",
    "}\n",
    "\n",
    "def map_labels(data):\n",
    "  data[\"emotion\"] = label_map[data[\"label\"]]\n",
    "  return data\n",
    "\n",
    "train_set = train_set.map(map_labels)\n",
    "test_set = test_set.map(map_labels)\n",
    "\n",
    "print(train_set[:5])\n",
    "print(test_set[:5])"
   ]
  },
  {
   "cell_type": "code",
   "execution_count": 10,
   "id": "86dda839-ef4e-4ced-a26d-b6638751c72c",
   "metadata": {
    "deletable": true,
    "editable": true,
    "frozen": false
   },
   "outputs": [
    {
     "name": "stdout",
     "output_type": "stream",
     "text": [
      "[{'text': 'im feel alone and i dont know how to cope', 'label': 0, 'emotion': 'sadness'}, {'text': 'i feel really angry sometimes because for the love of god havent we been through enough', 'label': 3, 'emotion': 'anger'}, {'text': 'ive been feeling a bit nostalgic ever since i went through a box of my dads old pictures for a post i did for a href http mysalvagedtreasures', 'label': 2, 'emotion': 'love'}, {'text': 'i had a hard time focusing on my life and walked around feeling dazed and confused', 'label': 5, 'emotion': 'surprise'}, {'text': 'i have just had such a crappy week that i am still feeling all agitated and like the day wasn t what i wanted', 'label': 4, 'emotion': 'fear'}, {'text': 'id probably go with none on and hope that my date admires a confident girl who feels fine without makeup', 'label': 1, 'emotion': 'joy'}]\n"
     ]
    }
   ],
   "source": [
    "def get_reasoning(label):\n",
    "    reasoning_map = {\n",
    "        0: \"This sentence uses strong negative language and conveys intense dissatisfaction or disapproval.\",\n",
    "        1: \"This sentence contains negative language or expresses dissatisfaction.\",\n",
    "        2: \"This sentence expresses neutral sentiment, with no strong emotional tone.\",\n",
    "        3: \"This sentence has positive language and expresses satisfaction or praise.\",\n",
    "        4: \"This sentence uses very positive language and conveys strong approval or delight.\",\n",
    "        5: \"This sentence reflects a mix of sentiments, with both positive and negative tones present.\"\n",
    "    }\n",
    "    return reasoning_map.get(label)\n",
    "\n",
    "examples_by_label = {}\n",
    "for example in train_set:\n",
    "    label = example[\"label\"]\n",
    "    if label not in examples_by_label:\n",
    "        examples_by_label[label] = []\n",
    "    examples_by_label[label].append(example)\n",
    "\n",
    "random.seed(42)\n",
    "few_shot_examples = []\n",
    "\n",
    "for label, examples in examples_by_label.items():\n",
    "    few_shot_examples.extend(random.sample(examples, 1))\n",
    "\n",
    "print(few_shot_examples)"
   ]
  },
  {
   "cell_type": "code",
   "execution_count": 11,
   "id": "55e43088-e6d8-44e1-b87a-3fd1f016fd9b",
   "metadata": {
    "deletable": true,
    "editable": true,
    "frozen": false
   },
   "outputs": [
    {
     "name": "stdout",
     "output_type": "stream",
     "text": [
      "Sentence: im feel alone and i dont know how to cope\n",
      "Sentiment: sadness\n",
      "Sentence: i feel really angry sometimes because for the love of god havent we been through enough\n",
      "Sentiment: anger\n",
      "Sentence: ive been feeling a bit nostalgic ever since i went through a box of my dads old pictures for a post i did for a href http mysalvagedtreasures\n",
      "Sentiment: love\n",
      "Sentence: i had a hard time focusing on my life and walked around feeling dazed and confused\n",
      "Sentiment: surprise\n",
      "Sentence: i have just had such a crappy week that i am still feeling all agitated and like the day wasn t what i wanted\n",
      "Sentiment: fear\n",
      "Sentence: id probably go with none on and hope that my date admires a confident girl who feels fine without makeup\n",
      "Sentiment: joy\n"
     ]
    }
   ],
   "source": [
    "examples_text = \"\\n\".join(\n",
    "    f\"Sentence: {example['text']}\\n\"\n",
    "    f\"Sentiment: {example['emotion']}\"\n",
    "    for example in few_shot_examples\n",
    ")\n",
    "\n",
    "print(examples_text)"
   ]
  },
  {
   "cell_type": "code",
   "execution_count": 12,
   "id": "677d2c2a-9828-4943-920a-d212a79bf062",
   "metadata": {
    "deletable": true,
    "editable": true,
    "frozen": false
   },
   "outputs": [
    {
     "name": "stdout",
     "output_type": "stream",
     "text": [
      "Sentence: im feel alone and i dont know how to cope\n",
      "Reasoning: This sentence uses strong negative language and conveys intense dissatisfaction or disapproval.\n",
      "Sentiment: sadness\n",
      "Sentence: i feel really angry sometimes because for the love of god havent we been through enough\n",
      "Reasoning: This sentence has positive language and expresses satisfaction or praise.\n",
      "Sentiment: anger\n",
      "Sentence: ive been feeling a bit nostalgic ever since i went through a box of my dads old pictures for a post i did for a href http mysalvagedtreasures\n",
      "Reasoning: This sentence expresses neutral sentiment, with no strong emotional tone.\n",
      "Sentiment: love\n",
      "Sentence: i had a hard time focusing on my life and walked around feeling dazed and confused\n",
      "Reasoning: This sentence reflects a mix of sentiments, with both positive and negative tones present.\n",
      "Sentiment: surprise\n",
      "Sentence: i have just had such a crappy week that i am still feeling all agitated and like the day wasn t what i wanted\n",
      "Reasoning: This sentence uses very positive language and conveys strong approval or delight.\n",
      "Sentiment: fear\n",
      "Sentence: id probably go with none on and hope that my date admires a confident girl who feels fine without makeup\n",
      "Reasoning: This sentence contains negative language or expresses dissatisfaction.\n",
      "Sentiment: joy\n"
     ]
    }
   ],
   "source": [
    "examples_text_cot = \"\\n\".join(\n",
    "    f\"Sentence: {example['text']}\\n\"\n",
    "    f\"Reasoning: {get_reasoning(example['label'])}\\n\"\n",
    "    f\"Sentiment: {example['emotion']}\"\n",
    "    for example in few_shot_examples\n",
    ")\n",
    "\n",
    "print(examples_text_cot)"
   ]
  },
  {
   "cell_type": "markdown",
   "id": "a8c4bb31-611c-4615-92af-632cb80bef89",
   "metadata": {
    "deletable": true,
    "editable": true,
    "frozen": false
   },
   "source": [
    "# Functions"
   ]
  },
  {
   "cell_type": "code",
   "execution_count": 24,
   "id": "2bbe15de-e5e2-4099-942a-c81cbdf3c61c",
   "metadata": {
    "deletable": true,
    "editable": true,
    "frozen": false
   },
   "outputs": [],
   "source": [
    "def zero_shot(content: str, examples = None):\n",
    "    # Asking for reasoning increases prompt response time by 10x.\n",
    "    # f\"Now classify the following sentence and provide reasoning for your classification. The output MUST follow this format:\\n\"\n",
    "    # f\"Sentiment: [Classification]\\nReason: [Explanation]\"\n",
    "\n",
    "    messages = [\n",
    "        SystemMessage(\n",
    "            content=f\"Your goal is to read a sentence and classify its emotion into one of the following categories: {', '.join(label_map.values())}.\\n\\n\"\n",
    "                    f\"Now classify the following sentence. The output MUST follow this format:\\n\"\n",
    "                    f\"Sentiment: [Classification]\"\n",
    "        ),\n",
    "        HumanMessage(\n",
    "            content=content\n",
    "        ),\n",
    "    ]\n",
    "\n",
    "    response = chat_model.invoke(messages)\n",
    "    return response.content\n",
    "\n",
    "def few_shot(content: str, examples: str):\n",
    "    messages = [\n",
    "        SystemMessage(\n",
    "            content=f\"Your goal is to read a sentence and classify its emotion into one of the following categories: {', '.join(label_map.values())}.\\n\\n\"\n",
    "                    f\"Here are some examples:\\n{examples}\\n\\n\"\n",
    "                    f\"Now classify the following sentence. The output MUST follow this format:\\n\"\n",
    "                    f\"Sentiment: [Classification]\"\n",
    "        ),\n",
    "        HumanMessage(\n",
    "            content=content\n",
    "        ),\n",
    "    ]\n",
    "\n",
    "    response = chat_model.invoke(messages)\n",
    "    return response.content\n",
    "\n",
    "# def parse_sentiment_reason(response):\n",
    "#     sentiment_pattern = r\"Sentiment:\\s*(.*?)\\n\"\n",
    "#     reason_pattern = r\"Reason:\\s*(.*?)$\"\n",
    "    \n",
    "#     sentiment_matches = re.findall(sentiment_pattern, response)\n",
    "#     reason_match = re.search(reason_pattern, response)\n",
    "\n",
    "#     sentiment = sentiment_matches[1].strip().lower() if len(sentiment_matches) > 1 else None\n",
    "#     reason = reason_match.group(1).strip() if reason_match else None\n",
    "    \n",
    "#     return (sentiment, reason)\n",
    "\n",
    "def parse_sentiment(response):\n",
    "    sentiment_pattern = r\"Sentiment:\\s*(.*?)$\"\n",
    "    sentiment_match = re.search(sentiment_pattern, response)\n",
    "\n",
    "    sentiment = sentiment_match.group(1).strip().lower() if sentiment_match else \"invalid\"\n",
    "\n",
    "    # Sometimes, model outputs in an incorrect format (e.g. \"determination/resilience (however, closest match from your options would be: joy)\")\n",
    "    # This will make it simply identify as None rather than trying to deal with parsing the output.\n",
    "    if sentiment not in [label for label in label_map.values()]:\n",
    "        # print(f\"+++\\nResponse in invalid format:\\n\\n{response}\\n\\n---\\n\")\n",
    "        sentiment = \"invalid\"\n",
    "\n",
    "    return sentiment\n",
    "\n",
    "def evaluate_model(dataset, fn, examples):\n",
    "    t0 = time()\n",
    "    predictions = []\n",
    "\n",
    "    for idx, (sentence, true_label) in enumerate(zip(dataset[\"text\"], dataset[\"emotion\"]), 1):\n",
    "        prediction = fn(sentence, examples)\n",
    "        sentiment = parse_sentiment(prediction)\n",
    "\n",
    "        predictions.append(sentiment)\n",
    "\n",
    "        if idx % 100 == 0:\n",
    "            print(f\"---\\nSentence: {sentence}\\nTrue: {true_label}\\nPrediction: {sentiment}\")\n",
    "            print(f\"Processed {idx}/{len(dataset)} examples, Time: {time()-t0:.3f}\\n---\\n\")\n",
    "\n",
    "    return predictions\n",
    "\n",
    "def conf_matrix(dataset, predictions):\n",
    "    cm = confusion_matrix(dataset[\"emotion\"], predictions)\n",
    "    # \"invalid\" is added to classify when LLM's response had an issue.\n",
    "    disp = ConfusionMatrixDisplay(confusion_matrix=cm, display_labels=list(label_map.values()) + [\"invalid\"])\n",
    "    disp.plot()\n",
    "    plt.show()"
   ]
  },
  {
   "cell_type": "markdown",
   "id": "de59b5e6-acef-4317-a1de-c2f192fb1a66",
   "metadata": {
    "deletable": true,
    "editable": true,
    "frozen": false
   },
   "source": [
    "# Zero-Shot Prompting Preview"
   ]
  },
  {
   "cell_type": "code",
   "execution_count": 14,
   "id": "8054a1ec-3a11-4831-9ef7-aed74c3e712f",
   "metadata": {
    "deletable": true,
    "editable": true,
    "frozen": false
   },
   "outputs": [
    {
     "name": "stderr",
     "output_type": "stream",
     "text": [
      "Starting from v4.46, the `logits` model output will have the same type as the model (except at train time, where it will always be FP32)\n"
     ]
    },
    {
     "name": "stdout",
     "output_type": "stream",
     "text": [
      "<|begin_of_text|><|start_header_id|>system<|end_header_id|>\n",
      "\n",
      "Cutting Knowledge Date: December 2023\n",
      "Today Date: 26 Jul 2024\n",
      "\n",
      "Your goal is to read a sentence and classify its emotion into one of the following categories: sadness, joy, love, anger, fear, surprise.\n",
      "\n",
      "Now classify the following sentence. The output MUST follow this format:\n",
      "Sentiment: [Classification]<|eot_id|><|start_header_id|>user<|end_header_id|>\n",
      "\n",
      "The food was absolutely amazing and delightful!<|eot_id|><|start_header_id|>assistant<|end_header_id|>\n",
      "\n",
      "Sentiment: Joy\n",
      "<|begin_of_text|><|start_header_id|>system<|end_header_id|>\n",
      "\n",
      "Cutting Knowledge Date: December 2023\n",
      "Today Date: 26 Jul 2024\n",
      "\n",
      "Your goal is to read a sentence and classify its emotion into one of the following categories: sadness, joy, love, anger, fear, surprise.\n",
      "\n",
      "Now classify the following sentence. The output MUST follow this format:\n",
      "Sentiment: [Classification]<|eot_id|><|start_header_id|>user<|end_header_id|>\n",
      "\n",
      "The experience was the worst I've ever had.<|eot_id|><|start_header_id|>assistant<|end_header_id|>\n",
      "\n",
      "Sentiment: Sadness\n"
     ]
    }
   ],
   "source": [
    "ai_msg = zero_shot(\"The food was absolutely amazing and delightful!\")\n",
    "print(ai_msg)\n",
    "\n",
    "ai_msg = zero_shot(\"The experience was the worst I've ever had.\")\n",
    "print(ai_msg)"
   ]
  },
  {
   "cell_type": "markdown",
   "id": "240d8d8e-414d-448d-a7ac-633776193cba",
   "metadata": {
    "deletable": true,
    "editable": true,
    "frozen": false
   },
   "source": [
    "# Few-Shot Prompting Preview"
   ]
  },
  {
   "cell_type": "code",
   "execution_count": 15,
   "id": "96065d23-248e-4877-801e-fbc070e9f3f6",
   "metadata": {
    "deletable": true,
    "editable": true,
    "frozen": false
   },
   "outputs": [
    {
     "name": "stdout",
     "output_type": "stream",
     "text": [
      "<|begin_of_text|><|start_header_id|>system<|end_header_id|>\n",
      "\n",
      "Cutting Knowledge Date: December 2023\n",
      "Today Date: 26 Jul 2024\n",
      "\n",
      "Your goal is to read a sentence and classify its emotion into one of the following categories: sadness, joy, love, anger, fear, surprise.\n",
      "\n",
      "Here are some examples:\n",
      "Sentence: im feel alone and i dont know how to cope\n",
      "Sentiment: sadness\n",
      "Sentence: i feel really angry sometimes because for the love of god havent we been through enough\n",
      "Sentiment: anger\n",
      "Sentence: ive been feeling a bit nostalgic ever since i went through a box of my dads old pictures for a post i did for a href http mysalvagedtreasures\n",
      "Sentiment: love\n",
      "Sentence: i had a hard time focusing on my life and walked around feeling dazed and confused\n",
      "Sentiment: surprise\n",
      "Sentence: i have just had such a crappy week that i am still feeling all agitated and like the day wasn t what i wanted\n",
      "Sentiment: fear\n",
      "Sentence: id probably go with none on and hope that my date admires a confident girl who feels fine without makeup\n",
      "Sentiment: joy\n",
      "\n",
      "Now classify the following sentence. The output MUST follow this format:\n",
      "Sentiment: [Classification]<|eot_id|><|start_header_id|>user<|end_header_id|>\n",
      "\n",
      "The food was absolutely amazing and delightful!<|eot_id|><|start_header_id|>assistant<|end_header_id|>\n",
      "\n",
      "Sentiment: joy\n",
      "<|begin_of_text|><|start_header_id|>system<|end_header_id|>\n",
      "\n",
      "Cutting Knowledge Date: December 2023\n",
      "Today Date: 26 Jul 2024\n",
      "\n",
      "Your goal is to read a sentence and classify its emotion into one of the following categories: sadness, joy, love, anger, fear, surprise.\n",
      "\n",
      "Here are some examples:\n",
      "Sentence: im feel alone and i dont know how to cope\n",
      "Sentiment: sadness\n",
      "Sentence: i feel really angry sometimes because for the love of god havent we been through enough\n",
      "Sentiment: anger\n",
      "Sentence: ive been feeling a bit nostalgic ever since i went through a box of my dads old pictures for a post i did for a href http mysalvagedtreasures\n",
      "Sentiment: love\n",
      "Sentence: i had a hard time focusing on my life and walked around feeling dazed and confused\n",
      "Sentiment: surprise\n",
      "Sentence: i have just had such a crappy week that i am still feeling all agitated and like the day wasn t what i wanted\n",
      "Sentiment: fear\n",
      "Sentence: id probably go with none on and hope that my date admires a confident girl who feels fine without makeup\n",
      "Sentiment: joy\n",
      "\n",
      "Now classify the following sentence. The output MUST follow this format:\n",
      "Sentiment: [Classification]<|eot_id|><|start_header_id|>user<|end_header_id|>\n",
      "\n",
      "The experience was the worst I've ever had.<|eot_id|><|start_header_id|>assistant<|end_header_id|>\n",
      "\n",
      "Sentiment: sadness\n"
     ]
    }
   ],
   "source": [
    "ai_msg = few_shot(\"The food was absolutely amazing and delightful!\", examples_text)\n",
    "print(ai_msg)\n",
    "\n",
    "ai_msg = few_shot(\"The experience was the worst I've ever had.\", examples_text)\n",
    "print(ai_msg)"
   ]
  },
  {
   "cell_type": "markdown",
   "id": "0f38e63e-0144-4136-ac43-77e210302d49",
   "metadata": {
    "deletable": true,
    "editable": true,
    "frozen": false
   },
   "source": [
    "# Few-Shot with Chain-of-Thought Preview"
   ]
  },
  {
   "cell_type": "code",
   "execution_count": 16,
   "id": "2c1e6e59-1d5f-463e-99b8-14cd2065d0d3",
   "metadata": {
    "deletable": true,
    "editable": true,
    "frozen": false
   },
   "outputs": [
    {
     "name": "stdout",
     "output_type": "stream",
     "text": [
      "<|begin_of_text|><|start_header_id|>system<|end_header_id|>\n",
      "\n",
      "Cutting Knowledge Date: December 2023\n",
      "Today Date: 26 Jul 2024\n",
      "\n",
      "Your goal is to read a sentence and classify its emotion into one of the following categories: sadness, joy, love, anger, fear, surprise.\n",
      "\n",
      "Here are some examples:\n",
      "Sentence: im feel alone and i dont know how to cope\n",
      "Reasoning: This sentence uses strong negative language and conveys intense dissatisfaction or disapproval.\n",
      "Sentiment: sadness\n",
      "Sentence: i feel really angry sometimes because for the love of god havent we been through enough\n",
      "Reasoning: This sentence has positive language and expresses satisfaction or praise.\n",
      "Sentiment: anger\n",
      "Sentence: ive been feeling a bit nostalgic ever since i went through a box of my dads old pictures for a post i did for a href http mysalvagedtreasures\n",
      "Reasoning: This sentence expresses neutral sentiment, with no strong emotional tone.\n",
      "Sentiment: love\n",
      "Sentence: i had a hard time focusing on my life and walked around feeling dazed and confused\n",
      "Reasoning: This sentence reflects a mix of sentiments, with both positive and negative tones present.\n",
      "Sentiment: surprise\n",
      "Sentence: i have just had such a crappy week that i am still feeling all agitated and like the day wasn t what i wanted\n",
      "Reasoning: This sentence uses very positive language and conveys strong approval or delight.\n",
      "Sentiment: fear\n",
      "Sentence: id probably go with none on and hope that my date admires a confident girl who feels fine without makeup\n",
      "Reasoning: This sentence contains negative language or expresses dissatisfaction.\n",
      "Sentiment: joy\n",
      "\n",
      "Now classify the following sentence. The output MUST follow this format:\n",
      "Sentiment: [Classification]<|eot_id|><|start_header_id|>user<|end_header_id|>\n",
      "\n",
      "The food was absolutely amazing and delightful!<|eot_id|><|start_header_id|>assistant<|end_header_id|>\n",
      "\n",
      "Sentiment: joy\n",
      "<|begin_of_text|><|start_header_id|>system<|end_header_id|>\n",
      "\n",
      "Cutting Knowledge Date: December 2023\n",
      "Today Date: 26 Jul 2024\n",
      "\n",
      "Your goal is to read a sentence and classify its emotion into one of the following categories: sadness, joy, love, anger, fear, surprise.\n",
      "\n",
      "Here are some examples:\n",
      "Sentence: im feel alone and i dont know how to cope\n",
      "Reasoning: This sentence uses strong negative language and conveys intense dissatisfaction or disapproval.\n",
      "Sentiment: sadness\n",
      "Sentence: i feel really angry sometimes because for the love of god havent we been through enough\n",
      "Reasoning: This sentence has positive language and expresses satisfaction or praise.\n",
      "Sentiment: anger\n",
      "Sentence: ive been feeling a bit nostalgic ever since i went through a box of my dads old pictures for a post i did for a href http mysalvagedtreasures\n",
      "Reasoning: This sentence expresses neutral sentiment, with no strong emotional tone.\n",
      "Sentiment: love\n",
      "Sentence: i had a hard time focusing on my life and walked around feeling dazed and confused\n",
      "Reasoning: This sentence reflects a mix of sentiments, with both positive and negative tones present.\n",
      "Sentiment: surprise\n",
      "Sentence: i have just had such a crappy week that i am still feeling all agitated and like the day wasn t what i wanted\n",
      "Reasoning: This sentence uses very positive language and conveys strong approval or delight.\n",
      "Sentiment: fear\n",
      "Sentence: id probably go with none on and hope that my date admires a confident girl who feels fine without makeup\n",
      "Reasoning: This sentence contains negative language or expresses dissatisfaction.\n",
      "Sentiment: joy\n",
      "\n",
      "Now classify the following sentence. The output MUST follow this format:\n",
      "Sentiment: [Classification]<|eot_id|><|start_header_id|>user<|end_header_id|>\n",
      "\n",
      "The experience was the worst I've ever had.<|eot_id|><|start_header_id|>assistant<|end_header_id|>\n",
      "\n",
      "Sentiment: sadness\n"
     ]
    }
   ],
   "source": [
    "ai_msg = few_shot(\"The food was absolutely amazing and delightful!\", examples_text_cot)\n",
    "print(ai_msg)\n",
    "\n",
    "ai_msg = few_shot(\"The experience was the worst I've ever had.\", examples_text_cot)\n",
    "print(ai_msg)"
   ]
  },
  {
   "cell_type": "markdown",
   "id": "058452ce-66c1-4f71-b636-04af15c2d4eb",
   "metadata": {
    "deletable": true,
    "editable": true,
    "frozen": false
   },
   "source": [
    "# Zero-Shot Evaluation"
   ]
  },
  {
   "cell_type": "code",
   "execution_count": 17,
   "id": "0e899086-91ba-44c6-b4d8-cd31ec2455e6",
   "metadata": {
    "deletable": true,
    "editable": true,
    "frozen": false
   },
   "outputs": [],
   "source": [
    "# sampleset = test_set.select(range(100))"
   ]
  },
  {
   "cell_type": "code",
   "execution_count": 25,
   "id": "653ad7ad-6fa1-4d7b-9981-5baee39b7f49",
   "metadata": {
    "deletable": true,
    "editable": true,
    "frozen": false
   },
   "outputs": [
    {
     "name": "stdout",
     "output_type": "stream",
     "text": [
      "---\n",
      "Sentence: i was still feeling weepy and strung out so maggie treated me to ice cream and a movie a href http www\n",
      "True: sadness\n",
      "Prediction: joy\n",
      "Processed 100/2000 examples, Time: 40.490\n",
      "---\n",
      "\n",
      "---\n",
      "Sentence: i feel that third situation pretty much sums up my feelings toward this title\n",
      "True: joy\n",
      "Prediction: sadness\n",
      "Processed 200/2000 examples, Time: 79.696\n",
      "---\n",
      "\n",
      "---\n",
      "Sentence: im feeling slightly irritable today\n",
      "True: anger\n",
      "Prediction: anger\n",
      "Processed 300/2000 examples, Time: 118.102\n",
      "---\n",
      "\n",
      "---\n",
      "Sentence: ive been feeling afraid a lot lately\n",
      "True: fear\n",
      "Prediction: fear\n",
      "Processed 400/2000 examples, Time: 157.941\n",
      "---\n",
      "\n",
      "---\n",
      "Sentence: i will admit and it left me feeling shaken and a bit of a goose\n",
      "True: fear\n",
      "Prediction: sadness\n",
      "Processed 500/2000 examples, Time: 200.641\n",
      "---\n",
      "\n",
      "---\n",
      "Sentence: i feel myself falling into the pit of buying it from her i think he s for real i m just skeptical of the women\n",
      "True: fear\n",
      "Prediction: fear\n",
      "Processed 600/2000 examples, Time: 244.740\n",
      "---\n",
      "\n",
      "---\n",
      "Sentence: i have to give it to men as women we complain a lot about the heals we have to wear but at least we can wear a dress and feel cool in the summer\n",
      "True: joy\n",
      "Prediction: joy\n",
      "Processed 700/2000 examples, Time: 287.768\n",
      "---\n",
      "\n",
      "---\n",
      "Sentence: i got up saturday morning feeling like crud but determined not to let it get the best of me\n",
      "True: joy\n",
      "Prediction: invalid\n",
      "Processed 800/2000 examples, Time: 329.260\n",
      "---\n",
      "\n",
      "---\n",
      "Sentence: i know he does the same thing for so many passersby i feel special truly welcome in his country\n",
      "True: joy\n",
      "Prediction: joy\n",
      "Processed 900/2000 examples, Time: 367.532\n",
      "---\n",
      "\n",
      "---\n",
      "Sentence: i am really hurt and i feel unimportant and that sucks\n",
      "True: sadness\n",
      "Prediction: sadness\n",
      "Processed 1000/2000 examples, Time: 408.388\n",
      "---\n",
      "\n",
      "---\n",
      "Sentence: i know their feelings are very real and not petty but neither are mine here\n",
      "True: anger\n",
      "Prediction: anger\n",
      "Processed 1100/2000 examples, Time: 447.726\n",
      "---\n",
      "\n",
      "---\n",
      "Sentence: i feel much lighter clearer and more energetic\n",
      "True: joy\n",
      "Prediction: joy\n",
      "Processed 1200/2000 examples, Time: 487.332\n",
      "---\n",
      "\n",
      "---\n",
      "Sentence: i thought i would grumpily curse the world and remain angry about oh i don t even really know sometimes it feels like i m angry about absolutely everything\n",
      "True: anger\n",
      "Prediction: anger\n",
      "Processed 1300/2000 examples, Time: 531.107\n",
      "---\n",
      "\n",
      "---\n",
      "Sentence: i cannot explain why but i need to say please understand my feeling i have heart and im not a heartless person\n",
      "True: anger\n",
      "Prediction: sadness\n",
      "Processed 1400/2000 examples, Time: 571.610\n",
      "---\n",
      "\n",
      "---\n",
      "Sentence: i found myself looking at the clock and starting to feel irritated\n",
      "True: anger\n",
      "Prediction: anger\n",
      "Processed 1500/2000 examples, Time: 613.440\n",
      "---\n",
      "\n",
      "---\n",
      "Sentence: i feel so damn curious with what this blond doctor plan to do this night\n",
      "True: surprise\n",
      "Prediction: invalid\n",
      "Processed 1600/2000 examples, Time: 656.513\n",
      "---\n",
      "\n",
      "---\n",
      "Sentence: i hear someone say we should just let gardeners be let folks do whatever they want i feel pretty aggravated\n",
      "True: anger\n",
      "Prediction: anger\n",
      "Processed 1700/2000 examples, Time: 699.757\n",
      "---\n",
      "\n",
      "---\n",
      "Sentence: i feel is the most important question how would we handle this\n",
      "True: joy\n",
      "Prediction: fear\n",
      "Processed 1800/2000 examples, Time: 741.073\n",
      "---\n",
      "\n",
      "---\n",
      "Sentence: ive got a off sale the ad says starting tomorrow but im feeling generous and started it now\n",
      "True: love\n",
      "Prediction: joy\n",
      "Processed 1900/2000 examples, Time: 782.997\n",
      "---\n",
      "\n",
      "---\n",
      "Sentence: i feel all weird when i have to meet w people i text but like dont talk face to face w\n",
      "True: fear\n",
      "Prediction: fear\n",
      "Processed 2000/2000 examples, Time: 829.420\n",
      "---\n",
      "\n"
     ]
    }
   ],
   "source": [
    "zero_shot_results = evaluate_model(test_set, zero_shot, None)"
   ]
  },
  {
   "cell_type": "code",
   "execution_count": 26,
   "id": "2519a808-3d05-42c9-b0e4-69a6a8e78de9",
   "metadata": {
    "deletable": true,
    "editable": true,
    "frozen": false
   },
   "outputs": [
    {
     "data": {
      "image/png": "[encoded data removed]",
      "text/plain": [
       "<Figure size 640x480 with 2 Axes>"
      ]
     },
     "metadata": {},
     "output_type": "display_data"
    }
   ],
   "source": [
    "conf_matrix(test_set, zero_shot_results)"
   ]
  },
  {
   "cell_type": "markdown",
   "id": "097984a5-d234-4c1e-a50a-a3b37db36183",
   "metadata": {
    "deletable": true,
    "editable": true,
    "frozen": false
   },
   "source": [
    "# Few-Shot Evaluation"
   ]
  },
  {
   "cell_type": "code",
   "execution_count": 27,
   "id": "8e3b38e3-4ff4-4d9e-846f-582e20e601ae",
   "metadata": {
    "deletable": true,
    "editable": true,
    "frozen": false
   },
   "outputs": [
    {
     "name": "stdout",
     "output_type": "stream",
     "text": [
      "---\n",
      "Sentence: i was still feeling weepy and strung out so maggie treated me to ice cream and a movie a href http www\n",
      "True: sadness\n",
      "Prediction: joy\n",
      "Processed 100/2000 examples, Time: 59.157\n",
      "---\n",
      "\n",
      "---\n",
      "Sentence: i feel that third situation pretty much sums up my feelings toward this title\n",
      "True: joy\n",
      "Prediction: sadness\n",
      "Processed 200/2000 examples, Time: 116.418\n",
      "---\n",
      "\n",
      "---\n",
      "Sentence: im feeling slightly irritable today\n",
      "True: anger\n",
      "Prediction: anger\n",
      "Processed 300/2000 examples, Time: 175.169\n",
      "---\n",
      "\n",
      "---\n",
      "Sentence: ive been feeling afraid a lot lately\n",
      "True: fear\n",
      "Prediction: fear\n",
      "Processed 400/2000 examples, Time: 232.109\n",
      "---\n",
      "\n",
      "---\n",
      "Sentence: i will admit and it left me feeling shaken and a bit of a goose\n",
      "True: fear\n",
      "Prediction: surprise\n",
      "Processed 500/2000 examples, Time: 299.054\n",
      "---\n",
      "\n",
      "---\n",
      "Sentence: i feel myself falling into the pit of buying it from her i think he s for real i m just skeptical of the women\n",
      "True: fear\n",
      "Prediction: fear\n",
      "Processed 600/2000 examples, Time: 356.667\n",
      "---\n",
      "\n",
      "---\n",
      "Sentence: i have to give it to men as women we complain a lot about the heals we have to wear but at least we can wear a dress and feel cool in the summer\n",
      "True: joy\n",
      "Prediction: joy\n",
      "Processed 700/2000 examples, Time: 417.890\n",
      "---\n",
      "\n",
      "---\n",
      "Sentence: i got up saturday morning feeling like crud but determined not to let it get the best of me\n",
      "True: joy\n",
      "Prediction: joy\n",
      "Processed 800/2000 examples, Time: 477.478\n",
      "---\n",
      "\n",
      "---\n",
      "Sentence: i know he does the same thing for so many passersby i feel special truly welcome in his country\n",
      "True: joy\n",
      "Prediction: love\n",
      "Processed 900/2000 examples, Time: 536.258\n",
      "---\n",
      "\n",
      "---\n",
      "Sentence: i am really hurt and i feel unimportant and that sucks\n",
      "True: sadness\n",
      "Prediction: sadness\n",
      "Processed 1000/2000 examples, Time: 597.059\n",
      "---\n",
      "\n",
      "---\n",
      "Sentence: i know their feelings are very real and not petty but neither are mine here\n",
      "True: anger\n",
      "Prediction: anger\n",
      "Processed 1100/2000 examples, Time: 654.057\n",
      "---\n",
      "\n",
      "---\n",
      "Sentence: i feel much lighter clearer and more energetic\n",
      "True: joy\n",
      "Prediction: joy\n",
      "Processed 1200/2000 examples, Time: 710.387\n",
      "---\n",
      "\n",
      "---\n",
      "Sentence: i thought i would grumpily curse the world and remain angry about oh i don t even really know sometimes it feels like i m angry about absolutely everything\n",
      "True: anger\n",
      "Prediction: anger\n",
      "Processed 1300/2000 examples, Time: 780.722\n",
      "---\n",
      "\n",
      "---\n",
      "Sentence: i cannot explain why but i need to say please understand my feeling i have heart and im not a heartless person\n",
      "True: anger\n",
      "Prediction: love\n",
      "Processed 1400/2000 examples, Time: 841.143\n",
      "---\n",
      "\n",
      "---\n",
      "Sentence: i found myself looking at the clock and starting to feel irritated\n",
      "True: anger\n",
      "Prediction: anger\n",
      "Processed 1500/2000 examples, Time: 898.071\n",
      "---\n",
      "\n",
      "---\n",
      "Sentence: i feel so damn curious with what this blond doctor plan to do this night\n",
      "True: surprise\n",
      "Prediction: invalid\n",
      "Processed 1600/2000 examples, Time: 960.976\n",
      "---\n",
      "\n",
      "---\n",
      "Sentence: i hear someone say we should just let gardeners be let folks do whatever they want i feel pretty aggravated\n",
      "True: anger\n",
      "Prediction: anger\n",
      "Processed 1700/2000 examples, Time: 1020.540\n",
      "---\n",
      "\n",
      "---\n",
      "Sentence: i feel is the most important question how would we handle this\n",
      "True: joy\n",
      "Prediction: fear\n",
      "Processed 1800/2000 examples, Time: 1077.373\n",
      "---\n",
      "\n",
      "---\n",
      "Sentence: ive got a off sale the ad says starting tomorrow but im feeling generous and started it now\n",
      "True: love\n",
      "Prediction: joy\n",
      "Processed 1900/2000 examples, Time: 1143.481\n",
      "---\n",
      "\n",
      "---\n",
      "Sentence: i feel all weird when i have to meet w people i text but like dont talk face to face w\n",
      "True: fear\n",
      "Prediction: fear\n",
      "Processed 2000/2000 examples, Time: 1200.449\n",
      "---\n",
      "\n"
     ]
    }
   ],
   "source": [
    "few_shot_results = evaluate_model(test_set, few_shot, examples_text)"
   ]
  },
  {
   "cell_type": "code",
   "execution_count": 28,
   "id": "9c73a30a-d14b-453b-b97e-15f0fc671cb8",
   "metadata": {
    "deletable": true,
    "editable": true,
    "frozen": false
   },
   "outputs": [
    {
     "data": {
      "image/png": "[encoded data removed]",
      "text/plain": [
       "<Figure size 640x480 with 2 Axes>"
      ]
     },
     "metadata": {},
     "output_type": "display_data"
    }
   ],
   "source": [
    "conf_matrix(test_set, few_shot_results)"
   ]
  },
  {
   "cell_type": "markdown",
   "id": "a68de871-ff3d-4119-bfa1-e33c6a7a790b",
   "metadata": {
    "deletable": true,
    "editable": true,
    "frozen": false
   },
   "source": [
    "# Few-Shot Chain-of-Thought Evaluation"
   ]
  },
  {
   "cell_type": "code",
   "execution_count": 29,
   "id": "d9505b4c-0318-48c5-9376-506797974d6f",
   "metadata": {
    "deletable": true,
    "editable": true,
    "frozen": false
   },
   "outputs": [
    {
     "name": "stdout",
     "output_type": "stream",
     "text": [
      "---\n",
      "Sentence: i was still feeling weepy and strung out so maggie treated me to ice cream and a movie a href http www\n",
      "True: sadness\n",
      "Prediction: joy\n",
      "Processed 100/2000 examples, Time: 77.732\n",
      "---\n",
      "\n",
      "---\n",
      "Sentence: i feel that third situation pretty much sums up my feelings toward this title\n",
      "True: joy\n",
      "Prediction: sadness\n",
      "Processed 200/2000 examples, Time: 151.202\n",
      "---\n",
      "\n",
      "---\n",
      "Sentence: im feeling slightly irritable today\n",
      "True: anger\n",
      "Prediction: sadness\n",
      "Processed 300/2000 examples, Time: 220.104\n",
      "---\n",
      "\n",
      "---\n",
      "Sentence: ive been feeling afraid a lot lately\n",
      "True: fear\n",
      "Prediction: fear\n",
      "Processed 400/2000 examples, Time: 290.378\n",
      "---\n",
      "\n",
      "---\n",
      "Sentence: i will admit and it left me feeling shaken and a bit of a goose\n",
      "True: fear\n",
      "Prediction: surprise\n",
      "Processed 500/2000 examples, Time: 364.244\n",
      "---\n",
      "\n",
      "---\n",
      "Sentence: i feel myself falling into the pit of buying it from her i think he s for real i m just skeptical of the women\n",
      "True: fear\n",
      "Prediction: sadness\n",
      "Processed 600/2000 examples, Time: 433.184\n",
      "---\n",
      "\n",
      "---\n",
      "Sentence: i have to give it to men as women we complain a lot about the heals we have to wear but at least we can wear a dress and feel cool in the summer\n",
      "True: joy\n",
      "Prediction: joy\n",
      "Processed 700/2000 examples, Time: 506.488\n",
      "---\n",
      "\n",
      "---\n",
      "Sentence: i got up saturday morning feeling like crud but determined not to let it get the best of me\n",
      "True: joy\n",
      "Prediction: joy\n",
      "Processed 800/2000 examples, Time: 579.552\n",
      "---\n",
      "\n",
      "---\n",
      "Sentence: i know he does the same thing for so many passersby i feel special truly welcome in his country\n",
      "True: joy\n",
      "Prediction: joy\n",
      "Processed 900/2000 examples, Time: 650.218\n",
      "---\n",
      "\n",
      "---\n",
      "Sentence: i am really hurt and i feel unimportant and that sucks\n",
      "True: sadness\n",
      "Prediction: sadness\n",
      "Processed 1000/2000 examples, Time: 724.862\n",
      "---\n",
      "\n",
      "---\n",
      "Sentence: i know their feelings are very real and not petty but neither are mine here\n",
      "True: anger\n",
      "Prediction: anger\n",
      "Processed 1100/2000 examples, Time: 796.065\n",
      "---\n",
      "\n",
      "---\n",
      "Sentence: i feel much lighter clearer and more energetic\n",
      "True: joy\n",
      "Prediction: joy\n",
      "Processed 1200/2000 examples, Time: 864.833\n",
      "---\n",
      "\n",
      "---\n",
      "Sentence: i thought i would grumpily curse the world and remain angry about oh i don t even really know sometimes it feels like i m angry about absolutely everything\n",
      "True: anger\n",
      "Prediction: anger\n",
      "Processed 1300/2000 examples, Time: 936.877\n",
      "---\n",
      "\n",
      "---\n",
      "Sentence: i cannot explain why but i need to say please understand my feeling i have heart and im not a heartless person\n",
      "True: anger\n",
      "Prediction: sadness\n",
      "Processed 1400/2000 examples, Time: 1006.364\n",
      "---\n",
      "\n",
      "---\n",
      "Sentence: i found myself looking at the clock and starting to feel irritated\n",
      "True: anger\n",
      "Prediction: anger\n",
      "Processed 1500/2000 examples, Time: 1074.744\n",
      "---\n",
      "\n",
      "---\n",
      "Sentence: i feel so damn curious with what this blond doctor plan to do this night\n",
      "True: surprise\n",
      "Prediction: surprise\n",
      "Processed 1600/2000 examples, Time: 1143.817\n",
      "---\n",
      "\n",
      "---\n",
      "Sentence: i hear someone say we should just let gardeners be let folks do whatever they want i feel pretty aggravated\n",
      "True: anger\n",
      "Prediction: anger\n",
      "Processed 1700/2000 examples, Time: 1213.429\n",
      "---\n",
      "\n",
      "---\n",
      "Sentence: i feel is the most important question how would we handle this\n",
      "True: joy\n",
      "Prediction: sadness\n",
      "Processed 1800/2000 examples, Time: 1289.116\n",
      "---\n",
      "\n",
      "---\n",
      "Sentence: ive got a off sale the ad says starting tomorrow but im feeling generous and started it now\n",
      "True: love\n",
      "Prediction: joy\n",
      "Processed 1900/2000 examples, Time: 1370.842\n",
      "---\n",
      "\n",
      "---\n",
      "Sentence: i feel all weird when i have to meet w people i text but like dont talk face to face w\n",
      "True: fear\n",
      "Prediction: invalid\n",
      "Processed 2000/2000 examples, Time: 1442.812\n",
      "---\n",
      "\n"
     ]
    }
   ],
   "source": [
    "few_shot_cot_results = evaluate_model(test_set, few_shot, examples_text_cot)"
   ]
  },
  {
   "cell_type": "code",
   "execution_count": 30,
   "id": "5e49b19b-65eb-480b-8a6a-9e9f8013a44d",
   "metadata": {
    "deletable": true,
    "editable": true,
    "frozen": false
   },
   "outputs": [
    {
     "data": {
      "image/png": "[encoded data removed]",
      "text/plain": [
       "<Figure size 640x480 with 2 Axes>"
      ]
     },
     "metadata": {},
     "output_type": "display_data"
    }
   ],
   "source": [
    "conf_matrix(test_set, few_shot_cot_results)"
   ]
  }
 ],
 "metadata": {
  "kernelspec": {
   "display_name": "Python 3 (ipykernel)",
   "language": "python",
   "name": "python3"
  },
  "language_info": {
   "codemirror_mode": {
    "name": "ipython",
    "version": 3
   },
   "file_extension": ".py",
   "mimetype": "text/x-python",
   "name": "python",
   "nbconvert_exporter": "python",
   "pygments_lexer": "ipython3",
   "version": "3.11.8"
  }
 },
 "nbformat": 4,
 "nbformat_minor": 5
}
