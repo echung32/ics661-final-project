{
 "cells": [
  {
   "cell_type": "code",
   "execution_count": null,
   "id": "5ad414f3-d329-4f8d-a5f0-01d8261faad8",
   "metadata": {
    "deletable": true,
    "editable": true,
    "frozen": false
   },
   "outputs": [],
   "source": [
    "from langchain_huggingface import ChatHuggingFace, HuggingFacePipeline"
   ]
  },
  {
   "cell_type": "code",
   "execution_count": null,
   "id": "97cb9909-2a08-42e2-9d8b-182e585ac55f",
   "metadata": {},
   "outputs": [],
   "source": [
    "llm = HuggingFacePipeline.from_model_id(\n",
    "    model_id=\"meta-llama/Llama-3.1-8B-Instruct\",\n",
    "    task=\"text-generation\",\n",
    "    device=0, \n",
    "    pipeline_kwargs=dict(\n",
    "        max_new_tokens=512,\n",
    "        do_sample=True,\n",
    "        repetition_penalty=1.1,\n",
    "        pad_token_id = 128009 # extracted from chat_model.llm.pipeline.tokenizer.eos_token_id\n",
    "    ),\n",
    ")\n"
   ]
  },
  {
   "cell_type": "code",
   "execution_count": null,
   "id": "83667ee4-ffe1-4fc4-a13d-1e2fd57c5275",
   "metadata": {},
   "outputs": [],
   "source": [
    "chat_model = ChatHuggingFace(llm=llm)\n",
    "chat_model.llm.pipeline.tokenizer.pad_token_id = chat_model.llm.pipeline.tokenizer.eos_token_id\n",
    "\n",
    "# class Sentiment(BaseModel):\n",
    "#     sentiment: str = Field(..., description=f\"The classification of the sentence, which should be one of: {', '.join(label_map.values())}\")\n",
    "#     reason: str = Field(..., description=\"Explanation of how the classification was decided\")\n",
    "# struct_chat_model = chat_model.with_structured_output(schema=Sentiment)\n",
    "\n",
    "# https://stackoverflow.com/questions/78883642/llama3-8b-instruct-returns-value-of-none-when-using-with-structure-output-wher\n",
    "# Seems to be a bug with structured outputs and the LLAMA 8b model."
   ]
  },
  {
   "cell_type": "code",
   "execution_count": null,
   "id": "0ada621c-163a-48a0-a9d8-8393ad911b43",
   "metadata": {},
   "outputs": [],
   "source": [
    "print(chat_model.llm.pipeline.tokenizer.eos_token_id)\n",
    "print(type(chat_model.llm.pipeline.tokenizer.eos_token_id))"
   ]
  }
 ],
 "metadata": {
  "kernelspec": {
   "display_name": "Python 3 (ipykernel)",
   "language": "python",
   "name": "python3"
  },
  "language_info": {
   "codemirror_mode": {
    "name": "ipython",
    "version": 3
   },
   "file_extension": ".py",
   "mimetype": "text/x-python",
   "name": "python",
   "nbconvert_exporter": "python",
   "pygments_lexer": "ipython3",
   "version": "3.11.8"
  }
 },
 "nbformat": 4,
 "nbformat_minor": 5
}
